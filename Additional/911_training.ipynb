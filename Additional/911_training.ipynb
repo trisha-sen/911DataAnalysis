{
 "cells": [
  {
   "cell_type": "code",
   "execution_count": 2,
   "metadata": {},
   "outputs": [],
   "source": [
    "from tensorflow.keras.models import Sequential\n",
    "from tensorflow.keras.layers import LSTM, Dense, Activation, Dropout\n",
    "from tensorflow.keras.optimizers import Adam\n",
    "import tensorflow.keras.backend as K"
   ]
  },
  {
   "cell_type": "code",
   "execution_count": 535,
   "metadata": {},
   "outputs": [],
   "source": [
    "import geopandas as gpd\n",
    "import pandas as pd\n",
    "# cities = gpd.read_file(\"zip:///Users/tsen6/Desktop/Python/tl_2019_24_tract.zip\")\n",
    "\n",
    "# cities['COUNTYFP'] = cities['COUNTYFP'].astype(str).astype(int)\n",
    "# baltimore_counties = [510] #[163] #[87,93,99,125,147,163]\n",
    "\n",
    "# baltimore = gpd.GeoDataFrame()\n",
    "# for county in baltimore_counties:\n",
    "#     #print(county)\n",
    "#     temp = cities[cities['COUNTYFP']==county]\n",
    "#     #print(temp)\n",
    "#     baltimore = baltimore.append(temp)"
   ]
  },
  {
   "cell_type": "code",
   "execution_count": 536,
   "metadata": {},
   "outputs": [],
   "source": [
    "# import pysal as ps\n",
    "# dir(ps.explore)"
   ]
  },
  {
   "cell_type": "code",
   "execution_count": 537,
   "metadata": {},
   "outputs": [
    {
     "name": "stdout",
     "output_type": "stream",
     "text": [
      "<class 'geopandas.geodataframe.GeoDataFrame'>\n",
      "RangeIndex: 200 entries, 0 to 199\n",
      "Data columns (total 16 columns):\n",
      " #   Column      Non-Null Count  Dtype   \n",
      "---  ------      --------------  -----   \n",
      " 0   NAMELSAD    200 non-null    object  \n",
      " 1   ALAND       200 non-null    int64   \n",
      " 2   INTPTLAT    200 non-null    object  \n",
      " 3   INTPTLON    200 non-null    object  \n",
      " 4   total_popu  200 non-null    object  \n",
      " 5   median_age  200 non-null    object  \n",
      " 6   Total hous  200 non-null    object  \n",
      " 7   Occupied h  200 non-null    object  \n",
      " 8   Vacant hou  200 non-null    object  \n",
      " 9   Median roo  200 non-null    object  \n",
      " 10  no vehicle  200 non-null    object  \n",
      " 11  state       200 non-null    object  \n",
      " 12  county      200 non-null    object  \n",
      " 13  pop_per_ar  200 non-null    float64 \n",
      " 14  pop_sq_mil  200 non-null    int64   \n",
      " 15  geometry    200 non-null    geometry\n",
      "dtypes: float64(1), geometry(1), int64(2), object(12)\n",
      "memory usage: 25.1+ KB\n"
     ]
    }
   ],
   "source": [
    "# baltimore.to_file('tmp')\n",
    "# ! rm -r tmp\n",
    "# w = ps.rook_from_shapefile(, idVariable='NAMELSAD')\n",
    "baltimore = gpd.read_file(\"baltimoe_data.shp\")\n",
    "baltimore.info()\n",
    "\n",
    "w = ps.lib.weights.Queen.from_dataframe(baltimore)\n",
    "baltimore = baltimore.drop(['pop_per_ar','county','state'],axis=1)"
   ]
  },
  {
   "cell_type": "code",
   "execution_count": 538,
   "metadata": {},
   "outputs": [],
   "source": [
    "np.random.seed(1234)\n",
    "z = zrt.drop(['geometry', 'NAMELSAD'], axis=1).values\n",
    "\n",
    "# maxp = ps.(w, z, thr, n_rev.values[:, None], initial=1000)\n",
    "baltimore['total_popu'] = baltimore['total_popu'].astype(float)\n",
    "baltimore['median_age'] = baltimore['median_age'].astype(float)\n",
    "baltimore['aland_neg'] = -baltimore['ALAND']\n",
    "baltimore['NAMELSAD']=baltimore['NAMELSAD'].astype(str)\n",
    "\n",
    "gdf = baltimore"
   ]
  },
  {
   "cell_type": "code",
   "execution_count": 539,
   "metadata": {},
   "outputs": [],
   "source": [
    "def cen_tract(tract_string):\n",
    "    tract = float((tract_string.split()[2]))\n",
    "    return tract\n",
    "gdf['NAMELSAD'] = gdf.apply(lambda x: cen_tract(x['NAMELSAD']),axis=1)"
   ]
  },
  {
   "cell_type": "code",
   "execution_count": 540,
   "metadata": {},
   "outputs": [],
   "source": [
    "df2018 = pd.read_csv('count2018.csv')\n",
    "c = df2018.groupby(['Census_Tracts'])['Count'].sum()\n",
    "dfTot2018 = pd.DataFrame(data = c)\n",
    "dfTot2018['Census_Tracts']=dfTot2018.index\n",
    "# gdf = gdf.drop(columns=['aland_neg'])\n",
    "gdf = gdf.join(dfTot2018.set_index('Census_Tracts'), on='NAMELSAD')"
   ]
  },
  {
   "cell_type": "code",
   "execution_count": 541,
   "metadata": {},
   "outputs": [],
   "source": [
    "def pop_911(df):\n",
    "    rate = (df['Count']/(df['ALAND']+1))*100\n",
    "    return rate\n",
    "gdf['rate911'] = gdf.apply(lambda x: pop_911(x),axis=1)"
   ]
  },
  {
   "cell_type": "code",
   "execution_count": 574,
   "metadata": {},
   "outputs": [],
   "source": [
    "dfDem = pd.read_csv('Demographics.csv')\n",
    "dfDem.tract = dfDem.tract/100\n",
    "gdf.NAMELSAD = gdf.NAMELSAD.astype(float)"
   ]
  },
  {
   "cell_type": "code",
   "execution_count": 748,
   "metadata": {},
   "outputs": [],
   "source": [
    "New = gdf.drop(columns=['total_popu','median_age','Total hous','Occupied h','Median roo',\n",
    "                       'no vehicle','aland_neg'])\n",
    "New = New.join(dfDem.set_index('tract'), on='NAMELSAD')"
   ]
  },
  {
   "cell_type": "code",
   "execution_count": 793,
   "metadata": {},
   "outputs": [
    {
     "name": "stdout",
     "output_type": "stream",
     "text": [
      "<class 'geopandas.geodataframe.GeoDataFrame'>\n",
      "RangeIndex: 200 entries, 0 to 199\n",
      "Data columns (total 27 columns):\n",
      " #   Column                   Non-Null Count  Dtype   \n",
      "---  ------                   --------------  -----   \n",
      " 0   NAMELSAD                 200 non-null    object  \n",
      " 1   ALAND                    200 non-null    int64   \n",
      " 2   INTPTLAT                 200 non-null    object  \n",
      " 3   INTPTLON                 200 non-null    object  \n",
      " 4   Vacant hou               200 non-null    object  \n",
      " 5   pop_sq_mil               200 non-null    float64 \n",
      " 6   geometry                 200 non-null    geometry\n",
      " 7   Count                    200 non-null    int64   \n",
      " 8   rate911                  200 non-null    float64 \n",
      " 9   Police District          200 non-null    object  \n",
      " 10  Unnamed: 0               200 non-null    int64   \n",
      " 11  total_population         200 non-null    int64   \n",
      " 12  median_age               200 non-null    float64 \n",
      " 13  High School Graduate     200 non-null    int64   \n",
      " 14  Median Household Income  200 non-null    float64 \n",
      " 15  Median rooms             200 non-null    float64 \n",
      " 16  no vehicle available     200 non-null    int64   \n",
      " 17  Total housing units      200 non-null    int64   \n",
      " 18  state                    200 non-null    int64   \n",
      " 19  county                   200 non-null    int64   \n",
      " 20  Year Built               200 non-null    float64 \n",
      " 21  % no vehicle available   199 non-null    float64 \n",
      " 22  houses/area              200 non-null    float64 \n",
      " 23  %high school graduate    199 non-null    float64 \n",
      " 24  Count_norm               200 non-null    float64 \n",
      " 25  House Age                200 non-null    float64 \n",
      " 26  labels                   200 non-null    object  \n",
      "dtypes: float64(11), geometry(1), int64(9), object(6)\n",
      "memory usage: 42.3+ KB\n"
     ]
    }
   ],
   "source": [
    "New['% no vehicle available'] = New['no vehicle available']/New['total_population']\n",
    "New['houses/area'] = New['Total housing units']/New['ALAND']*1000\n",
    "New['%high school graduate'] = New['High School Graduate']/New['total_population']\n",
    "New['Count_norm']=(New['Count']/(New['total_population']+1))\n",
    "New['pop_sq_mil'] = New['pop_sq_mil']/10000\n",
    "New['House Age'] = 2018 - New['Year Built']\n",
    "\n",
    "New['Median Household Income'] = (New['Median Household Income']-\n",
    "                                  New['Median Household Income'].min())/(New['Median Household Income'].max()-\n",
    "                                                                         New['Median Household Income'].min())\n",
    "New['houses/area'] = (New['houses/area']-\n",
    "                      New['houses/area'].min())/(New['houses/area'].max()-\n",
    "                                               New['houses/area'].min())\n",
    "New['pop_sq_mil'] = (New['pop_sq_mil']-\n",
    "                     New['pop_sq_mil'].min())/(New['pop_sq_mil'].max()-\n",
    "                                          New['pop_sq_mil'].min())\n",
    "New['House Age'] = (New['House Age']-\n",
    "                    New['House Age'].min())/(New['House Age'].max()-\n",
    "                                          New['House Age'].min())\n",
    "New['Median rooms'] = (New['Median rooms']-\n",
    "                      New['Median rooms'].min())/(New['Median rooms'].max()-\n",
    "                                                  New['Median rooms'].min())\n",
    "New.info()"
   ]
  },
  {
   "cell_type": "code",
   "execution_count": 794,
   "metadata": {},
   "outputs": [
    {
     "name": "stderr",
     "output_type": "stream",
     "text": [
      "C:\\Users\\tsen6\\AppData\\Local\\Continuum\\anaconda3\\lib\\site-packages\\sklearn\\utils\\validation.py:760: DataConversionWarning: A column-vector y was passed when a 1d array was expected. Please change the shape of y to (n_samples, ), for example using ravel().\n",
      "  y = column_or_1d(y, warn=True)\n"
     ]
    },
    {
     "data": {
      "text/plain": [
       "<BarContainer object of 6 artists>"
      ]
     },
     "execution_count": 794,
     "metadata": {},
     "output_type": "execute_result"
    },
    {
     "data": {
      "image/png": "[encoded data removed]",
      "text/plain": [
       "<Figure size 432x288 with 1 Axes>"
      ]
     },
     "metadata": {
      "needs_background": "light"
     },
     "output_type": "display_data"
    }
   ],
   "source": [
    "# pearson's correlation feature selection for numeric input and numeric output\n",
    "from sklearn.datasets import make_regression\n",
    "from sklearn.feature_selection import SelectKBest\n",
    "from sklearn.feature_selection import f_regression\n",
    "from sklearn.preprocessing import MinMaxScaler\n",
    "import matplotlib.pyplot as plt\n",
    "\n",
    "New['% no vehicle available'] = New['% no vehicle available'\n",
    "                                   ].fillna(New['% no vehicle available'].min())\n",
    "New['%high school graduate'] = New['%high school graduate'\n",
    "                                  ].fillna(New['%high school graduate'].min())\n",
    "New['Count_norm'] = New['Count_norm'\n",
    "                                  ].fillna(New['Count_norm'].min())\n",
    "\n",
    "\n",
    "X = New[['%high school graduate','Median Household Income',\n",
    "         'houses/area','House Age',\n",
    "         'Median rooms','pop_sq_mil']] #,'median_age'\n",
    "scaler = MinMaxScaler()\n",
    "scaler.fit(X)\n",
    "X = scaler.transform(X)\n",
    "\n",
    "y = New[['Count_norm']]\n",
    "scaler = MinMaxScaler()\n",
    "scaler.fit(y)\n",
    "y = scaler.transform(y)\n",
    "\n",
    "labels = ['%high school graduate','Median Household Income',\n",
    "         'houses/area','House Age',\n",
    "         'Median rooms','pop_sq_mil']#,'median_age']\n",
    "# print(X[51:80])\n",
    "# define feature selection\n",
    "fs = SelectKBest(score_func=f_regression, k=5)\n",
    "# apply feature selection\n",
    "X_selected = fs.fit_transform(X, y)\n",
    "# print(X_selected.shape)\n",
    "plt.barh(labels,fs.scores_)"
   ]
  },
  {
   "cell_type": "code",
   "execution_count": 861,
   "metadata": {},
   "outputs": [
    {
     "data": {
      "text/plain": [
       "59023.0"
      ]
     },
     "execution_count": 861,
     "metadata": {},
     "output_type": "execute_result"
    }
   ],
   "source": [
    "import numpy as np\n",
    "zrt = New\n",
    "zrt['NAMELSAD'] = zrt['NAMELSAD'].astype(str)\n",
    "# gdf['total_popu']=gdf['total_popu'].astype(float)\n",
    "n_rev = zrt.groupby('NAMELSAD')\\\n",
    "           .sum()\\\n",
    "           ['Count']\\\n",
    "           .rename(lambda x: str((x)))\\\n",
    "           .reindex(zrt['NAMELSAD'])\n",
    "\n",
    "thr = np.round(0.095 * n_rev.sum())\n",
    "thr\n",
    "# baltimore.NAMELSAD"
   ]
  },
  {
   "cell_type": "code",
   "execution_count": 866,
   "metadata": {},
   "outputs": [],
   "source": [
    "import scipy\n",
    "from region.max_p_regions.heuristics import MaxPRegionsHeu\n",
    "import pysal as ps\n",
    "from region.p_regions.azp import *\n",
    "from libpysal.weights import Queen, Rook\n",
    "\n",
    "Fin = New\n",
    "\n",
    "w_queen = Queen.from_dataframe(Fin)\n",
    "w_rook = Rook.from_dataframe(Fin)\n",
    "\n",
    "adj = scipy.sparse.csr_matrix(w_rook.full()[0])\n",
    "\n",
    "values_gdf = Fin[['Median Household Income']] #,\n",
    "#                   'House Age', \n",
    "#                   'pop_sq_mil','houses/area']]\n",
    "spatially_extensive_attr_gdf = Fin[['Count']].values #'total_popu',\n",
    "\n",
    "i = 100\n",
    "threshold = [thr]\n",
    "model = MaxPRegionsHeu(local_search = AZP(), random_state=i)\n",
    "model.fit_from_w(w_rook, values_gdf.values, spatially_extensive_attr_gdf, threshold = threshold)\n",
    "Fin['labels'] = model.labels_\n",
    "\n",
    "# MaxPRegionsHeu.fit_from_geodataframe(w, z, thr, n_rev.values[:, None], initial=1000)\n",
    "# dir(region.max_p_regions)\n",
    "# # maxp = region.Maxp(w, z, thr, n_rev.values[:, None], initial=1000)"
   ]
  },
  {
   "cell_type": "code",
   "execution_count": 867,
   "metadata": {},
   "outputs": [
    {
     "data": {
      "image/png": "[encoded data removed]",
      "text/plain": [
       "<Figure size 360x360 with 1 Axes>"
      ]
     },
     "metadata": {
      "needs_background": "light"
     },
     "output_type": "display_data"
    }
   ],
   "source": [
    "Fin['labels']=Fin['labels'].astype(str)\n",
    "base = Fin.plot(cmap = 'jet',figsize=[5,5],column = 'labels', legend=True, alpha=0.7)\n",
    "# base.legend(loc='upper left')\n",
    "Stations = pd.read_csv('Police_Stations.csv')\n",
    "Stations = gpd.GeoDataFrame(\n",
    "    Stations, geometry=gpd.points_from_xy(Stations.longitude, Stations.latitude))\n",
    "Stations.plot(ax=base, marker='o', color='black', markersize=15);"
   ]
  },
  {
   "cell_type": "code",
   "execution_count": 864,
   "metadata": {},
   "outputs": [
    {
     "name": "stdout",
     "output_type": "stream",
     "text": [
      "Avergae Deviation from mean = 22739.0\n",
      "# Zones = 9\n",
      "Maximum Load = 82559\n"
     ]
    },
    {
     "data": {
      "image/png": "[encoded data removed]",
      "text/plain": [
       "<Figure size 432x288 with 1 Axes>"
      ]
     },
     "metadata": {
      "needs_background": "light"
     },
     "output_type": "display_data"
    }
   ],
   "source": [
    "c = Fin.groupby(['labels'])['Count'].sum().sort_values()\n",
    "ax = c.plot.bar()\n",
    "ax.set_xlabel('New District')\n",
    "ax.set_ylabel('Annual 911 calls')\n",
    "ax.set_ylim(0, 110000)\n",
    "print('Avergae Deviation from mean =' , round(np.mean(abs(c.values.max()\n",
    "                                                          - c.values.min()))))\n",
    "print('# Zones =', len(c))\n",
    "print('Maximum Load =' , c.values.max())"
   ]
  },
  {
   "cell_type": "code",
   "execution_count": 865,
   "metadata": {},
   "outputs": [],
   "source": [
    "dfUsed = Fin\n",
    "ctracts = dfUsed.NAMELSAD.unique()\n",
    "New_dist = []\n",
    "for ct in ctracts:\n",
    "    for idx in dfUsed.index:\n",
    "        if dfUsed.NAMELSAD[idx]==ct:\n",
    "            New_dist.append(dfUsed.labels[idx])\n",
    "            break\n",
    "\n",
    "d = {'New_district': New_dist, 'census_tracts': dfUsed.NAMELSAD.unique()}\n",
    "ND_tract = pd.DataFrame(data=d)\n",
    "\n",
    "ND_tract.sort_values(by=['New_district'])\n",
    "ND_tract.to_csv('Tract_ND.csv',index=False)"
   ]
  },
  {
   "cell_type": "code",
   "execution_count": 600,
   "metadata": {},
   "outputs": [],
   "source": [
    "PD_tract = pd.read_csv('Tract_PD.csv')\n",
    "PD = []\n",
    "for idx in gdf.index:\n",
    "    ct = gdf.NAMELSAD[idx]\n",
    "    xx = (PD_tract[PD_tract['census_tracts']==float(ct)].Police_district.values[0])\n",
    "    PD.append(xx)\n",
    "    \n",
    "gdf['Police District']=PD"
   ]
  },
  {
   "cell_type": "code",
   "execution_count": 737,
   "metadata": {},
   "outputs": [
    {
     "name": "stdout",
     "output_type": "stream",
     "text": [
      "Avergae Deviation from mean = 46997.0\n",
      "# Zones = 9\n",
      "Maximum Load = 100401\n"
     ]
    },
    {
     "data": {
      "image/png": "[encoded data removed]",
      "text/plain": [
       "<Figure size 432x288 with 1 Axes>"
      ]
     },
     "metadata": {
      "needs_background": "light"
     },
     "output_type": "display_data"
    }
   ],
   "source": [
    "c = gdf.groupby(['Police District'])['Count'].sum().sort_values()\n",
    "ax = c.plot.bar()\n",
    "ax.set_xlabel('Police District')\n",
    "ax.set_ylabel('Annual 911 calls')\n",
    "ax.set_ylim(0, 110000)\n",
    "print('Avergae Deviation from mean =' , round(np.mean(abs(c.values.max()\n",
    "                                                          - c.values.min()))))\n",
    "print('# Zones =', len(c))\n",
    "print('Maximum Load =' , c.values.max())"
   ]
  },
  {
   "cell_type": "code",
   "execution_count": 745,
   "metadata": {},
   "outputs": [
    {
     "data": {
      "text/plain": [
       "labels\n",
       "0.0    16963737\n",
       "1.0    18232181\n",
       "2.0    15620426\n",
       "3.0    27274346\n",
       "4.0    21832356\n",
       "5.0    28957907\n",
       "6.0    10722178\n",
       "7.0    31313509\n",
       "8.0    38734330\n",
       "Name: ALAND, dtype: int64"
      ]
     },
     "execution_count": 745,
     "metadata": {},
     "output_type": "execute_result"
    }
   ],
   "source": [
    "Area = Fin.groupby(['labels'])['ALAND'].sum()\n",
    "Area"
   ]
  },
  {
   "cell_type": "code",
   "execution_count": null,
   "metadata": {},
   "outputs": [],
   "source": [
    "def series_to_supervised(data, n_in=1, n_out=1, dropnan=True):\n",
    "    n_vars = 1 if type(data) is list else data.shape[1]\n",
    "    df = DataFrame(data)\n",
    "    cols, names = list(), list()\n",
    "    # input sequence (t-n, ... t-1)\n",
    "    for i in range(n_in, 0, -1):\n",
    "        cols.append(df.shift(i))\n",
    "        names += [('var%d(t-%d)' % (j+1, i)) for j in range(n_vars)]\n",
    "    # forecast sequence (t, t+1, ... t+n)\n",
    "    for i in range(0, n_out):\n",
    "        cols.append(df.shift(-i))\n",
    "        if i == 0:\n",
    "            names += [('var%d(t)' % (j+1)) for j in range(n_vars)]\n",
    "        else:\n",
    "            names += [('var%d(t+%d)' % (j+1, i)) for j in range(n_vars)]\n",
    "    # put it all together\n",
    "    agg = concat(cols, axis=1)\n",
    "    agg.columns = names\n",
    "    # drop rows with NaN values\n",
    "    if dropnan:\n",
    "        agg.dropna(inplace=True)\n",
    "    return agg\n",
    " \n",
    "# load dataset\n",
    "dataset = read_csv('pollution.csv', header=0, index_col=0)\n",
    "values = dataset.values\n",
    "# # integer encode direction\n",
    "# encoder = LabelEncoder()\n",
    "# values[:,4] = encoder.fit_transform(values[:,4])\n",
    "# ensure all data is float\n",
    "values = values.astype('float32')\n",
    "# normalize features\n",
    "scaler = MinMaxScaler(feature_range=(0, 1))\n",
    "scaled = scaler.fit_transform(values)\n",
    "# frame as supervised learning\n",
    "reframed = series_to_supervised(scaled, 1, 1)\n",
    "# drop columns we don't want to predict\n",
    "reframed.drop(reframed.columns[[9,10,11,12,13,14,15]], axis=1, inplace=True)\n",
    "print(reframed.head())"
   ]
  }
 ],
 "metadata": {
  "kernelspec": {
   "display_name": "Python 3",
   "language": "python",
   "name": "python3"
  },
  "language_info": {
   "codemirror_mode": {
    "name": "ipython",
    "version": 3
   },
   "file_extension": ".py",
   "mimetype": "text/x-python",
   "name": "python",
   "nbconvert_exporter": "python",
   "pygments_lexer": "ipython3",
   "version": "3.7.6"
  }
 },
 "nbformat": 4,
 "nbformat_minor": 4
}
