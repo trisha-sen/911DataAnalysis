{
 "cells": [
  {
   "cell_type": "code",
   "execution_count": 11,
   "metadata": {},
   "outputs": [],
   "source": [
    "import pandas as pd\n",
    "import matplotlib.pyplot as plt\n",
    "from fbprophet import Prophet\n",
    "import datetime as dt\n",
    "import numpy as np\n",
    "from sklearn.preprocessing import LabelEncoder\n",
    "from sklearn.preprocessing import OneHotEncoder"
   ]
  },
  {
   "cell_type": "code",
   "execution_count": 269,
   "metadata": {},
   "outputs": [],
   "source": [
    "from sklearn.metrics import mean_squared_log_error\n",
    "from sklearn.ensemble import RandomForestRegressor"
   ]
  },
  {
   "cell_type": "markdown",
   "metadata": {},
   "source": [
    "### Import dataframe for 911 calls for service in Baltimore"
   ]
  },
  {
   "cell_type": "code",
   "execution_count": 8,
   "metadata": {},
   "outputs": [
    {
     "name": "stderr",
     "output_type": "stream",
     "text": [
      "C:\\Users\\tsen6\\Anaconda3\\lib\\site-packages\\IPython\\core\\interactiveshell.py:3063: DtypeWarning: Columns (1) have mixed types.Specify dtype option on import or set low_memory=False.\n",
      "  interactivity=interactivity, compiler=compiler, result=result)\n"
     ]
    },
    {
     "name": "stdout",
     "output_type": "stream",
     "text": [
      "<class 'pandas.core.frame.DataFrame'>\n",
      "RangeIndex: 7823490 entries, 0 to 7823489\n",
      "Data columns (total 20 columns):\n",
      " #   Column                       Dtype  \n",
      "---  ------                       -----  \n",
      " 0   RecordID                     int64  \n",
      " 1   CallNumber                   object \n",
      " 2   CallDateTime                 object \n",
      " 3   Priority                     object \n",
      " 4   District                     object \n",
      " 5   Description                  object \n",
      " 6   IncidentLocation             object \n",
      " 7   ZipCode                      float64\n",
      " 8   Neighborhood                 object \n",
      " 9   PoliceDistrict               object \n",
      " 10  PolicePost                   float64\n",
      " 11  CouncilDistrict              float64\n",
      " 12  SheriffDistricts             object \n",
      " 13  Community_Statistical_Areas  object \n",
      " 14  Census_Tracts                object \n",
      " 15  VRIZones                     object \n",
      " 16  Location                     object \n",
      " 17  2010 Census Neighborhoods    float64\n",
      " 18  2010 Census Wards Precincts  float64\n",
      " 19  Zip Codes                    float64\n",
      "dtypes: float64(6), int64(1), object(13)\n",
      "memory usage: 1.2+ GB\n"
     ]
    }
   ],
   "source": [
    "df = pd.read_csv('C:/Users/tsen6/Desktop/Python/Analysis911/911_Police_Calls_for_Service.csv')"
   ]
  },
  {
   "cell_type": "markdown",
   "metadata": {},
   "source": [
    "Cleaning and setting variable types in dataframe columns"
   ]
  },
  {
   "cell_type": "code",
   "execution_count": 9,
   "metadata": {},
   "outputs": [
    {
     "name": "stdout",
     "output_type": "stream",
     "text": [
      "<class 'pandas.core.frame.DataFrame'>\n",
      "Int64Index: 7745304 entries, 0 to 7823489\n",
      "Data columns (total 21 columns):\n",
      " #   Column                       Dtype         \n",
      "---  ------                       -----         \n",
      " 0   RecordID                     int64         \n",
      " 1   CallNumber                   object        \n",
      " 2   CallDateTime                 datetime64[ns]\n",
      " 3   Priority                     object        \n",
      " 4   District                     object        \n",
      " 5   Description                  object        \n",
      " 6   IncidentLocation             object        \n",
      " 7   ZipCode                      float64       \n",
      " 8   Neighborhood                 object        \n",
      " 9   PoliceDistrict               object        \n",
      " 10  PolicePost                   float64       \n",
      " 11  CouncilDistrict              float64       \n",
      " 12  SheriffDistricts             object        \n",
      " 13  Community_Statistical_Areas  object        \n",
      " 14  Census_Tracts                float64       \n",
      " 15  VRIZones                     object        \n",
      " 16  Location                     object        \n",
      " 17  2010 Census Neighborhoods    float64       \n",
      " 18  2010 Census Wards Precincts  float64       \n",
      " 19  Zip Codes                    float64       \n",
      " 20  Count                        int64         \n",
      "dtypes: datetime64[ns](1), float64(7), int64(2), object(11)\n",
      "memory usage: 1.3+ GB\n"
     ]
    }
   ],
   "source": [
    "df['CallDateTime'] = pd.to_datetime(df['CallDateTime'])\n",
    "df = df.dropna(subset=['Census_Tracts'])\n",
    "df = df.dropna(subset=['PoliceDistrict'])\n",
    "df = df.dropna(subset=['Priority'])\n",
    "df['Count'] = 1\n",
    "\n",
    "def cen_tract(tract_string):\n",
    "    tract = float(str(tract_string).split()[2])\n",
    "    return tract\n",
    "\n",
    "df.Census_Tracts = df.apply(lambda x: cen_tract(x['Census_Tracts']),axis=1)\n",
    "df.info()"
   ]
  },
  {
   "cell_type": "markdown",
   "metadata": {},
   "source": [
    "Removing low priorty, non-emergency and out-of-service calls"
   ]
  },
  {
   "cell_type": "code",
   "execution_count": 29,
   "metadata": {},
   "outputs": [],
   "source": [
    "dfHighEmer = df[['RecordID','CallDateTime','Priority','Description','PoliceDistrict',\n",
    "               'Census_Tracts','Count']]\n",
    "dfHighEmer = dfHighEmer[(dfHighEmer['Priority']!='Low') \n",
    "                    & (dfHighEmer['Priority']!='Non-Emergency')\n",
    "                    & (dfHighEmer['Priority']!='Out of Service')]"
   ]
  },
  {
   "cell_type": "markdown",
   "metadata": {},
   "source": [
    "### Agglomerating records to census tract level, also converting counts to weekly (rather than daily)"
   ]
  },
  {
   "cell_type": "code",
   "execution_count": 219,
   "metadata": {},
   "outputs": [],
   "source": [
    "ND_file = 'Tract_ND_fin.csv' #'Tract_ND.csv'\n",
    "PD_tract = pd.read_csv('Tract_PD2.csv') #('Tract_PD.csv')\n",
    "ND_tract = pd.read_csv(ND_file) #\n",
    "# ND_tract.info()\n",
    "\n",
    "dfWeekly = pd.DataFrame()\n",
    "for cd in df.Census_Tracts.unique():    \n",
    "    PD = PD_tract[PD_tract['census_tracts']==cd].Police_district\n",
    "    policeD = (PD.tolist()[0])\n",
    "    ND = ND_tract[ND_tract['census_tracts']==cd].New_district\n",
    "    newD = (ND.tolist()[0])\n",
    "    \n",
    "    Temp = dfHighEmer[(dfHighEmer['Census_Tracts']==cd)]\n",
    "    dfSumNew = Temp.groupby(pd.Grouper(key='CallDateTime', freq='W'))['Count'].sum()\n",
    "    dfTemp = pd.DataFrame(dfSumNew) \n",
    "    dfTemp['Date'] = dfSumNew.index\n",
    "    dfTemp['Census_Tracts'] = cd\n",
    "    dfTemp['PoliceDistrict'] = policeD    \n",
    "    dfTemp['New_district'] = newD\n",
    "    \n",
    "    dfWeekly = dfWeekly.append(dfTemp)"
   ]
  },
  {
   "cell_type": "code",
   "execution_count": 220,
   "metadata": {},
   "outputs": [
    {
     "data": {
      "image/png": "[encoded data removed]",
      "text/plain": [
       "<Figure size 432x288 with 1 Axes>"
      ]
     },
     "metadata": {
      "needs_background": "light"
     },
     "output_type": "display_data"
    }
   ],
   "source": [
    "dfSum = dfHighEmer['Count'].groupby(dfHighEmer['CallDateTime'].dt.date).sum()\n",
    "dfSum = pd.DataFrame(data=dfSum)\n",
    "dfSum = dfSum.reset_index()\n",
    "dfSum = dfSum.rename(columns={\"CallDateTime\": \"ds\",\"Count\":\"y\"})\n",
    "dfSum['ds'] = pd.to_datetime(dfSum['ds'])\n",
    "means = dfSum['y'].groupby(dfSum['ds'].dt.year).mean()\n",
    "plt.plot(means)\n",
    "\n",
    "mean1, mean2, mean3 = [], [], []\n",
    "for i in range(2015,2019):\n",
    "    mean1.append(means[i])\n",
    "for i in [2013,2014]:\n",
    "    mean2.append(means[i])\n",
    "for i in [2019,2020]:\n",
    "    mean3.append(means[i])\n",
    "    \n",
    "mean1 = np.mean(mean1)\n",
    "mean2 = np.mean(mean2)\n",
    "mean3 = np.mean(mean3)"
   ]
  },
  {
   "cell_type": "code",
   "execution_count": 266,
   "metadata": {},
   "outputs": [],
   "source": [
    "dfWeekNorm = pd.DataFrame()\n",
    "k = 0\n",
    "for i in [2013,2014]:\n",
    "    if len(dfWeekNorm)!=0:        \n",
    "        dTemp = dfWeekly[dfWeekly['Date'].dt.year==i][:-2] #['Count']* mean2/mean2\n",
    "        dTemp['Count'] = dTemp['Count']* mean2/mean2\n",
    "        dfWeekNorm = pd.concat([dfWeekNorm,dTemp])\n",
    "    else:\n",
    "        dfWeekNorm = dfWeekly[dfWeekly['Date'].dt.year==i][:-2]\n",
    "        dfWeekNorm['Count']=dfWeekNorm['Count'] * mean2/mean2\n",
    "    k+=1\n",
    "    \n",
    "k = 0\n",
    "for i in range(2015,2019):\n",
    "    if len(dfWeekNorm)!=0:        \n",
    "        dTemp = dfWeekly[dfWeekly['Date'].dt.year==i][:-2]\n",
    "        dTemp['Count'] = dTemp['Count']* mean2/mean1\n",
    "        dfWeekNorm = pd.concat([dfWeekNorm,dTemp])\n",
    "    else:\n",
    "        dfWeekNorm = dfWeekly[dfWeekly['Date'].dt.year==i][:-2]\n",
    "        dfWeekNorm['Count']=dfWeekNorm['Count'] * mean2/mean1\n",
    "    k+=1\n",
    "\n",
    "k = 0\n",
    "for i in range(2019,2021):\n",
    "    if len(dfWeekNorm)!=0:        \n",
    "        dTemp = dfWeekly[dfWeekly['Date'].dt.year==i][:-2]\n",
    "        dTemp['Count']=dTemp['Count'] * mean2/mean3\n",
    "        dfWeekNorm = pd.concat([dfWeekNorm,dTemp])\n",
    "    else:\n",
    "        dfWeekNorm = dfWeekly[dfWeekly['Date'].dt.year==i][:-2]\n",
    "        dfWeekNorm['Count']=dfWeekNorm['Count'] * mean2/mean3\n",
    "    k+=1\n",
    "\n",
    "dfWeekNorm = dfWeekNorm.sort_values(by=['Date'])"
   ]
  },
  {
   "cell_type": "markdown",
   "metadata": {},
   "source": [
    "### Creating features to be used in Random Forest Regression for predicting future values.\n",
    "Features include label-encoded census tracts (0-199), one-hot encoded ditrict (9), week, month, year, sales last week, difference in sales between last week and this week. (Annual seasonal variation was obserevd during EDA which suggests including week and month information)"
   ]
  },
  {
   "cell_type": "code",
   "execution_count": 267,
   "metadata": {},
   "outputs": [
    {
     "data": {
      "text/html": [
       "<div>\n",
       "<style scoped>\n",
       "    .dataframe tbody tr th:only-of-type {\n",
       "        vertical-align: middle;\n",
       "    }\n",
       "\n",
       "    .dataframe tbody tr th {\n",
       "        vertical-align: top;\n",
       "    }\n",
       "\n",
       "    .dataframe thead th {\n",
       "        text-align: right;\n",
       "    }\n",
       "</style>\n",
       "<table border=\"1\" class=\"dataframe\">\n",
       "  <thead>\n",
       "    <tr style=\"text-align: right;\">\n",
       "      <th></th>\n",
       "      <th>Count</th>\n",
       "      <th>Date</th>\n",
       "      <th>Year</th>\n",
       "      <th>Month</th>\n",
       "      <th>Week</th>\n",
       "      <th>Census_Tracts_Cat</th>\n",
       "      <th>0</th>\n",
       "      <th>1</th>\n",
       "      <th>2</th>\n",
       "      <th>3</th>\n",
       "      <th>4</th>\n",
       "      <th>5</th>\n",
       "      <th>6</th>\n",
       "      <th>7</th>\n",
       "      <th>8</th>\n",
       "      <th>Last_Week_Sales</th>\n",
       "      <th>Last_Week_Diff</th>\n",
       "    </tr>\n",
       "  </thead>\n",
       "  <tbody>\n",
       "    <tr>\n",
       "      <th>216</th>\n",
       "      <td>54.000000</td>\n",
       "      <td>2013-07-14</td>\n",
       "      <td>2013</td>\n",
       "      <td>7</td>\n",
       "      <td>28</td>\n",
       "      <td>87</td>\n",
       "      <td>0.0</td>\n",
       "      <td>0.0</td>\n",
       "      <td>0.0</td>\n",
       "      <td>0.0</td>\n",
       "      <td>0.0</td>\n",
       "      <td>0.0</td>\n",
       "      <td>0.0</td>\n",
       "      <td>1.0</td>\n",
       "      <td>0.0</td>\n",
       "      <td>84.000000</td>\n",
       "      <td>83.000000</td>\n",
       "    </tr>\n",
       "    <tr>\n",
       "      <th>405</th>\n",
       "      <td>41.000000</td>\n",
       "      <td>2013-07-21</td>\n",
       "      <td>2013</td>\n",
       "      <td>7</td>\n",
       "      <td>29</td>\n",
       "      <td>87</td>\n",
       "      <td>0.0</td>\n",
       "      <td>0.0</td>\n",
       "      <td>0.0</td>\n",
       "      <td>0.0</td>\n",
       "      <td>0.0</td>\n",
       "      <td>0.0</td>\n",
       "      <td>0.0</td>\n",
       "      <td>1.0</td>\n",
       "      <td>0.0</td>\n",
       "      <td>54.000000</td>\n",
       "      <td>-30.000000</td>\n",
       "    </tr>\n",
       "    <tr>\n",
       "      <th>700</th>\n",
       "      <td>43.000000</td>\n",
       "      <td>2013-07-28</td>\n",
       "      <td>2013</td>\n",
       "      <td>7</td>\n",
       "      <td>30</td>\n",
       "      <td>87</td>\n",
       "      <td>0.0</td>\n",
       "      <td>0.0</td>\n",
       "      <td>0.0</td>\n",
       "      <td>0.0</td>\n",
       "      <td>0.0</td>\n",
       "      <td>0.0</td>\n",
       "      <td>0.0</td>\n",
       "      <td>1.0</td>\n",
       "      <td>0.0</td>\n",
       "      <td>41.000000</td>\n",
       "      <td>-13.000000</td>\n",
       "    </tr>\n",
       "    <tr>\n",
       "      <th>826</th>\n",
       "      <td>50.000000</td>\n",
       "      <td>2013-08-04</td>\n",
       "      <td>2013</td>\n",
       "      <td>8</td>\n",
       "      <td>31</td>\n",
       "      <td>87</td>\n",
       "      <td>0.0</td>\n",
       "      <td>0.0</td>\n",
       "      <td>0.0</td>\n",
       "      <td>0.0</td>\n",
       "      <td>0.0</td>\n",
       "      <td>0.0</td>\n",
       "      <td>0.0</td>\n",
       "      <td>1.0</td>\n",
       "      <td>0.0</td>\n",
       "      <td>43.000000</td>\n",
       "      <td>2.000000</td>\n",
       "    </tr>\n",
       "    <tr>\n",
       "      <th>1028</th>\n",
       "      <td>68.000000</td>\n",
       "      <td>2013-08-11</td>\n",
       "      <td>2013</td>\n",
       "      <td>8</td>\n",
       "      <td>32</td>\n",
       "      <td>87</td>\n",
       "      <td>0.0</td>\n",
       "      <td>0.0</td>\n",
       "      <td>0.0</td>\n",
       "      <td>0.0</td>\n",
       "      <td>0.0</td>\n",
       "      <td>0.0</td>\n",
       "      <td>0.0</td>\n",
       "      <td>1.0</td>\n",
       "      <td>0.0</td>\n",
       "      <td>50.000000</td>\n",
       "      <td>7.000000</td>\n",
       "    </tr>\n",
       "    <tr>\n",
       "      <th>...</th>\n",
       "      <td>...</td>\n",
       "      <td>...</td>\n",
       "      <td>...</td>\n",
       "      <td>...</td>\n",
       "      <td>...</td>\n",
       "      <td>...</td>\n",
       "      <td>...</td>\n",
       "      <td>...</td>\n",
       "      <td>...</td>\n",
       "      <td>...</td>\n",
       "      <td>...</td>\n",
       "      <td>...</td>\n",
       "      <td>...</td>\n",
       "      <td>...</td>\n",
       "      <td>...</td>\n",
       "      <td>...</td>\n",
       "      <td>...</td>\n",
       "    </tr>\n",
       "    <tr>\n",
       "      <th>71530</th>\n",
       "      <td>38.262905</td>\n",
       "      <td>2020-05-10</td>\n",
       "      <td>2020</td>\n",
       "      <td>5</td>\n",
       "      <td>19</td>\n",
       "      <td>87</td>\n",
       "      <td>0.0</td>\n",
       "      <td>0.0</td>\n",
       "      <td>0.0</td>\n",
       "      <td>0.0</td>\n",
       "      <td>0.0</td>\n",
       "      <td>0.0</td>\n",
       "      <td>0.0</td>\n",
       "      <td>1.0</td>\n",
       "      <td>0.0</td>\n",
       "      <td>59.133581</td>\n",
       "      <td>13.913784</td>\n",
       "    </tr>\n",
       "    <tr>\n",
       "      <th>71653</th>\n",
       "      <td>27.827568</td>\n",
       "      <td>2020-05-17</td>\n",
       "      <td>2020</td>\n",
       "      <td>5</td>\n",
       "      <td>20</td>\n",
       "      <td>87</td>\n",
       "      <td>0.0</td>\n",
       "      <td>0.0</td>\n",
       "      <td>0.0</td>\n",
       "      <td>0.0</td>\n",
       "      <td>0.0</td>\n",
       "      <td>0.0</td>\n",
       "      <td>0.0</td>\n",
       "      <td>1.0</td>\n",
       "      <td>0.0</td>\n",
       "      <td>38.262905</td>\n",
       "      <td>-20.870676</td>\n",
       "    </tr>\n",
       "    <tr>\n",
       "      <th>71927</th>\n",
       "      <td>59.133581</td>\n",
       "      <td>2020-05-24</td>\n",
       "      <td>2020</td>\n",
       "      <td>5</td>\n",
       "      <td>21</td>\n",
       "      <td>87</td>\n",
       "      <td>0.0</td>\n",
       "      <td>0.0</td>\n",
       "      <td>0.0</td>\n",
       "      <td>0.0</td>\n",
       "      <td>0.0</td>\n",
       "      <td>0.0</td>\n",
       "      <td>0.0</td>\n",
       "      <td>1.0</td>\n",
       "      <td>0.0</td>\n",
       "      <td>27.827568</td>\n",
       "      <td>-10.435338</td>\n",
       "    </tr>\n",
       "    <tr>\n",
       "      <th>72013</th>\n",
       "      <td>46.959020</td>\n",
       "      <td>2020-05-31</td>\n",
       "      <td>2020</td>\n",
       "      <td>5</td>\n",
       "      <td>22</td>\n",
       "      <td>87</td>\n",
       "      <td>0.0</td>\n",
       "      <td>0.0</td>\n",
       "      <td>0.0</td>\n",
       "      <td>0.0</td>\n",
       "      <td>0.0</td>\n",
       "      <td>0.0</td>\n",
       "      <td>0.0</td>\n",
       "      <td>1.0</td>\n",
       "      <td>0.0</td>\n",
       "      <td>59.133581</td>\n",
       "      <td>31.306013</td>\n",
       "    </tr>\n",
       "    <tr>\n",
       "      <th>72296</th>\n",
       "      <td>5.217669</td>\n",
       "      <td>2020-06-07</td>\n",
       "      <td>2020</td>\n",
       "      <td>6</td>\n",
       "      <td>23</td>\n",
       "      <td>87</td>\n",
       "      <td>0.0</td>\n",
       "      <td>0.0</td>\n",
       "      <td>0.0</td>\n",
       "      <td>0.0</td>\n",
       "      <td>0.0</td>\n",
       "      <td>0.0</td>\n",
       "      <td>0.0</td>\n",
       "      <td>1.0</td>\n",
       "      <td>0.0</td>\n",
       "      <td>46.959020</td>\n",
       "      <td>-12.174561</td>\n",
       "    </tr>\n",
       "  </tbody>\n",
       "</table>\n",
       "<p>361 rows × 17 columns</p>\n",
       "</div>"
      ],
      "text/plain": [
       "           Count       Date  Year  Month  Week  Census_Tracts_Cat    0    1  \\\n",
       "216    54.000000 2013-07-14  2013      7    28                 87  0.0  0.0   \n",
       "405    41.000000 2013-07-21  2013      7    29                 87  0.0  0.0   \n",
       "700    43.000000 2013-07-28  2013      7    30                 87  0.0  0.0   \n",
       "826    50.000000 2013-08-04  2013      8    31                 87  0.0  0.0   \n",
       "1028   68.000000 2013-08-11  2013      8    32                 87  0.0  0.0   \n",
       "...          ...        ...   ...    ...   ...                ...  ...  ...   \n",
       "71530  38.262905 2020-05-10  2020      5    19                 87  0.0  0.0   \n",
       "71653  27.827568 2020-05-17  2020      5    20                 87  0.0  0.0   \n",
       "71927  59.133581 2020-05-24  2020      5    21                 87  0.0  0.0   \n",
       "72013  46.959020 2020-05-31  2020      5    22                 87  0.0  0.0   \n",
       "72296   5.217669 2020-06-07  2020      6    23                 87  0.0  0.0   \n",
       "\n",
       "         2    3    4    5    6    7    8  Last_Week_Sales  Last_Week_Diff  \n",
       "216    0.0  0.0  0.0  0.0  0.0  1.0  0.0        84.000000       83.000000  \n",
       "405    0.0  0.0  0.0  0.0  0.0  1.0  0.0        54.000000      -30.000000  \n",
       "700    0.0  0.0  0.0  0.0  0.0  1.0  0.0        41.000000      -13.000000  \n",
       "826    0.0  0.0  0.0  0.0  0.0  1.0  0.0        43.000000        2.000000  \n",
       "1028   0.0  0.0  0.0  0.0  0.0  1.0  0.0        50.000000        7.000000  \n",
       "...    ...  ...  ...  ...  ...  ...  ...              ...             ...  \n",
       "71530  0.0  0.0  0.0  0.0  0.0  1.0  0.0        59.133581       13.913784  \n",
       "71653  0.0  0.0  0.0  0.0  0.0  1.0  0.0        38.262905      -20.870676  \n",
       "71927  0.0  0.0  0.0  0.0  0.0  1.0  0.0        27.827568      -10.435338  \n",
       "72013  0.0  0.0  0.0  0.0  0.0  1.0  0.0        59.133581       31.306013  \n",
       "72296  0.0  0.0  0.0  0.0  0.0  1.0  0.0        46.959020      -12.174561  \n",
       "\n",
       "[361 rows x 17 columns]"
      ]
     },
     "execution_count": 267,
     "metadata": {},
     "output_type": "execute_result"
    }
   ],
   "source": [
    "dfWeekNorm = dfWeekNorm.reset_index(drop=True)\n",
    "dfWeekNorm['Year']=dfWeekNorm['Date'].dt.year\n",
    "dfWeekNorm['Month']=dfWeekNorm['Date'].dt.month\n",
    "dfWeekNorm['Week']=dfWeekNorm['Date'].dt.week\n",
    "\n",
    "# creating instance of labelencoder\n",
    "labelencoder = LabelEncoder()\n",
    "enc = OneHotEncoder(handle_unknown='ignore')\n",
    "\n",
    "# Assigning numerical values and storing in another column\n",
    "dfWeekNorm['Census_Tracts_Cat'] = labelencoder.fit_transform(dfWeekNorm['Census_Tracts'])\n",
    "dfWeekNorm['PoliceDistrict_Cat'] = labelencoder.fit_transform(dfWeekNorm['PoliceDistrict'])\n",
    "\n",
    "# passing bridge-types-cat column (label encoded values of bridge_types)\n",
    "enc_df = pd.DataFrame(enc.fit_transform(dfWeekNorm[['PoliceDistrict_Cat']]).toarray())\n",
    "# merge with main df bridge_df on key values\n",
    "dfWeekNorm = dfWeekNorm.join(enc_df)\n",
    "dfWeekNorm = dfWeekNorm.drop(columns = ['Census_Tracts','PoliceDistrict',\n",
    "                                    'New_district', 'PoliceDistrict_Cat'])\n",
    "\n",
    "dfWeekNorm['Last_Week_Sales'] = dfWeekNorm.groupby(['Census_Tracts_Cat'\n",
    "                                                   ])['Count'].shift()\n",
    "dfWeekNorm['Last_Week_Diff'] = dfWeekNorm.groupby(['Census_Tracts_Cat'\n",
    "                                                  ])['Last_Week_Sales'].diff()\n",
    "dfWeekNorm = dfWeekNorm.dropna()\n",
    "# dfWeekNorm = dfWeekNorm.drop(columns = ['Last_Week_Sales'])\n",
    "\n",
    "dfWeekNorm[dfWeekNorm['Census_Tracts_Cat']==87]"
   ]
  },
  {
   "cell_type": "markdown",
   "metadata": {},
   "source": [
    "### Running Random Forest Model\n",
    "Setting up the error metric"
   ]
  },
  {
   "cell_type": "code",
   "execution_count": 268,
   "metadata": {},
   "outputs": [],
   "source": [
    "def MAPE_func(pred, actual):    \n",
    "    return ((abs(pred-actual)/(actual+1)*100)).mean()"
   ]
  },
  {
   "cell_type": "markdown",
   "metadata": {},
   "source": [
    "Test-train split parameters"
   ]
  },
  {
   "cell_type": "code",
   "execution_count": 270,
   "metadata": {},
   "outputs": [],
   "source": [
    "split = 0.8 #weeks\n",
    "datesCV = dfWeekly.groupby(pd.Grouper(key='Date', freq='W'))['Count'].sum()\n",
    "datesCV = datesCV.index\n",
    "nsteps = 130\n",
    "nstart = int(len(datesCV)*split)\n",
    "from datetime import timedelta"
   ]
  },
  {
   "cell_type": "markdown",
   "metadata": {},
   "source": [
    "Walk forward cross-validation on 20% of data. We consider a 3-month walk forward each iteration"
   ]
  },
  {
   "cell_type": "code",
   "execution_count": 313,
   "metadata": {},
   "outputs": [
    {
     "name": "stdout",
     "output_type": "stream",
     "text": [
      "Step 0 - Error 26.92229\n",
      "Step 1 - Error 22.43247\n",
      "Step 2 - Error 24.10542\n",
      "Step 3 - Error 27.37867\n",
      "Step 4 - Error 20.03595\n",
      "Step 5 - Error 22.26351\n",
      "Step 6 - Error 23.17588\n",
      "Step 7 - Error 21.41481\n",
      "Step 8 - Error 22.66201\n",
      "Step 9 - Error 22.16500\n",
      "Step 10 - Error 21.97540\n",
      "Step 11 - Error 22.59825\n",
      "Step 12 - Error 22.50861\n",
      "Step 13 - Error 20.94420\n",
      "Step 14 - Error 28.41274\n",
      "Step 15 - Error 26.45578\n",
      "Step 16 - Error 24.95651\n",
      "Step 17 - Error 30.65233\n",
      "Step 18 - Error 30.43218\n",
      "Mean Error = 24.28905\n"
     ]
    }
   ],
   "source": [
    "j = 0\n",
    "mean_error = []\n",
    "for id in range(2*int(nsteps/7),len(datesCV),int(nsteps/7)):\n",
    "    \n",
    "    train = dfWeekNorm[dfWeekNorm.Date < datesCV[id]].drop(columns = ['Date'])\n",
    "    xtr = train.drop(['Count'], axis=1)\n",
    "    ytr = train['Count'].values\n",
    "\n",
    "    mdl = RandomForestRegressor(n_estimators=1000, n_jobs=-1, random_state=0)\n",
    "    mdl.fit(xtr, ytr)\n",
    "    \n",
    "    p,yts = [],[]\n",
    "    week_before = dfWeekNorm[(dfWeekNorm.Date > datesCV[id]-timedelta(days=14)\n",
    "                              ) &  (dfWeekNorm.Date <=\n",
    "                                    datesCV[id]-timedelta(days=7))].drop(columns = ['Date'])\n",
    "    new = dfWeekNorm[(dfWeekNorm.Date > datesCV[id]-timedelta(days=7)\n",
    "                              ) &  (dfWeekNorm.Date <= datesCV[id])].drop(columns = ['Date'])\n",
    "    lastWeek = new\n",
    "    for step in range(0,nsteps,7):\n",
    "        PrevCount = week_before.set_index('Census_Tracts_Cat')['Count']\n",
    "        \n",
    "        val = dfWeekNorm[(dfWeekNorm.Date > datesCV[id]) &\n",
    "                         (dfWeekNorm.Date <= datesCV[id]+timedelta(\n",
    "                             days=7))].drop(columns = ['Date'])\n",
    "        act = val['Count'].values\n",
    "        \n",
    "        xts = val.drop(columns = ['Count','Last_Week_Sales','Last_Week_Diff'])\n",
    "        \n",
    "        Last_Week_Diff = pd.DataFrame(lastWeek.set_index(\n",
    "            'Census_Tracts_Cat')['Count']-week_before.set_index('Census_Tracts_Cat')['Count'])\n",
    "        \n",
    "        Last_Week_Sales = pd.DataFrame(lastWeek.groupby(['Census_Tracts_Cat'\n",
    "                                                   ])['Count'].sum()).reset_index()\n",
    "        \n",
    "        xts = xts.join(Last_Week_Sales.set_index('Census_Tracts_Cat'), on='Census_Tracts_Cat')\n",
    "        xts = xts.rename(columns = {\"Count\": \"Last_Week_Sales\"})\n",
    "        xts = xts.join(Last_Week_Diff, on='Census_Tracts_Cat')\n",
    "        xts = xts.rename(columns = {\"Count\": \"Last_Week_Diff\"})\n",
    "        xts = xts.fillna(0)\n",
    "        \n",
    "        new = mdl.predict(xts)\n",
    "#         print(new)\n",
    "        \n",
    "        week_before = lastWeek\n",
    "        lastWeek = pd.DataFrame({'Census_Tracts_Cat' : xts['Census_Tracts_Cat'],\n",
    "                                'Count': new})\n",
    "        p = np.hstack((p,new))\n",
    "        yts = np.hstack((yts, act))\n",
    "        \n",
    "    error = MAPE_func(yts, p)\n",
    "    print('Step %d - Error %.5f' % (j, error))\n",
    "    mean_error.append(error)\n",
    "    j+=1\n",
    "print('Mean Error = %.5f' % np.mean(mean_error))\n",
    "        "
   ]
  },
  {
   "cell_type": "markdown",
   "metadata": {},
   "source": [
    "Looking at feature importances"
   ]
  },
  {
   "cell_type": "code",
   "execution_count": 329,
   "metadata": {},
   "outputs": [
    {
     "name": "stdout",
     "output_type": "stream",
     "text": [
      "As expected there is a very strong dependence on \"Counts Last Week\" which is not included below. This plot shows relative importance of other features used in the analysis\n"
     ]
    },
    {
     "data": {
      "image/png": "[encoded data removed]",
      "text/plain": [
       "<Figure size 432x288 with 1 Axes>"
      ]
     },
     "metadata": {
      "needs_background": "light"
     },
     "output_type": "display_data"
    }
   ],
   "source": [
    "importances = mdl.feature_importances_\n",
    "arr = xtr.columns\n",
    "dfFeat = pd.DataFrame({'features' : arr, 'importances' : arr1})\n",
    "dfFeat = dfFeat.sort_values('importances').reset_index(drop=True)[0:-1]\n",
    "\n",
    "fig, ax = plt.subplots()\n",
    "\n",
    "ax.barh(dfFeat['features'].astype(str), dfFeat['importances'])\n",
    "ax.set_xlabel('Importance')\n",
    "ax.set_title('Random Forest Importance')\n",
    "\n",
    "print('As expected there is a very strong dependence on \"Counts Last Week\"',\n",
    "      'which is not included below.',\n",
    "      'This plot shows relative importance of other features used in the analysis')\n",
    "plt.show()\n"
   ]
  },
  {
   "cell_type": "markdown",
   "metadata": {},
   "source": [
    "## Hyperparameter tuning for random forest regression"
   ]
  },
  {
   "cell_type": "markdown",
   "metadata": {},
   "source": [
    "Setting up the grid of hyperparameters to be searched"
   ]
  },
  {
   "cell_type": "code",
   "execution_count": 325,
   "metadata": {},
   "outputs": [
    {
     "name": "stdout",
     "output_type": "stream",
     "text": [
      "{'n_estimators': [200, 288, 377, 466, 555, 644, 733, 822, 911, 1000], 'max_features': ['auto', 'sqrt'], 'max_depth': [10, 20, 30, 40, 50, 60, 70, 80, 90, 100, 110, None], 'min_samples_split': [2, 5, 10], 'min_samples_leaf': [1, 2, 4], 'bootstrap': [True, False]}\n"
     ]
    }
   ],
   "source": [
    "from sklearn.model_selection import RandomizedSearchCV\n",
    "# Number of trees in random forest\n",
    "n_estimators = [int(x) for x in np.linspace(start = 200, stop = 1000, num = 10)]\n",
    "# Number of features to consider at every split\n",
    "max_features = ['auto', 'sqrt']\n",
    "# Maximum number of levels in tree\n",
    "max_depth = [int(x) for x in np.linspace(10, 110, num = 11)]\n",
    "max_depth.append(None)\n",
    "# Minimum number of samples required to split a node\n",
    "min_samples_split = [2, 5, 10]\n",
    "# Minimum number of samples required at each leaf node\n",
    "min_samples_leaf = [1, 2, 4]\n",
    "# Method of selecting samples for training each tree\n",
    "bootstrap = [True, False]# Create the random grid\n",
    "random_grid = {'n_estimators': n_estimators,\n",
    "               'max_features': max_features,\n",
    "               'max_depth': max_depth,\n",
    "               'min_samples_split': min_samples_split,\n",
    "               'min_samples_leaf': min_samples_leaf,\n",
    "               'bootstrap': bootstrap}\n",
    "print(random_grid)"
   ]
  },
  {
   "cell_type": "markdown",
   "metadata": {},
   "source": [
    "Random grid search over selected hyperparameters, CV fold set to 2 (minimim allowed) to minimize overfitting from prediction of past values using model trained on future values"
   ]
  },
  {
   "cell_type": "code",
   "execution_count": 326,
   "metadata": {},
   "outputs": [
    {
     "name": "stdout",
     "output_type": "stream",
     "text": [
      "Fitting 2 folds for each of 50 candidates, totalling 100 fits\n"
     ]
    },
    {
     "name": "stderr",
     "output_type": "stream",
     "text": [
      "[Parallel(n_jobs=-1)]: Using backend LokyBackend with 8 concurrent workers.\n",
      "[Parallel(n_jobs=-1)]: Done  25 tasks      | elapsed:   25.1s\n",
      "[Parallel(n_jobs=-1)]: Done 100 out of 100 | elapsed:  1.4min finished\n"
     ]
    },
    {
     "data": {
      "text/plain": [
       "RandomizedSearchCV(cv=2, error_score=nan,\n",
       "                   estimator=RandomForestRegressor(bootstrap=True,\n",
       "                                                   ccp_alpha=0.0,\n",
       "                                                   criterion='mse',\n",
       "                                                   max_depth=None,\n",
       "                                                   max_features='auto',\n",
       "                                                   max_leaf_nodes=None,\n",
       "                                                   max_samples=None,\n",
       "                                                   min_impurity_decrease=0.0,\n",
       "                                                   min_impurity_split=None,\n",
       "                                                   min_samples_leaf=1,\n",
       "                                                   min_samples_split=2,\n",
       "                                                   min_weight_fraction_leaf=0.0,\n",
       "                                                   n_estimators=100,\n",
       "                                                   n_jobs=None, oob_score=Fals...\n",
       "                   iid='deprecated', n_iter=50, n_jobs=-1,\n",
       "                   param_distributions={'bootstrap': [True, False],\n",
       "                                        'max_depth': [10, 20, 30, 40, 50, 60,\n",
       "                                                      70, 80, 90, 100, 110,\n",
       "                                                      None],\n",
       "                                        'max_features': ['auto', 'sqrt'],\n",
       "                                        'min_samples_leaf': [1, 2, 4],\n",
       "                                        'min_samples_split': [2, 5, 10],\n",
       "                                        'n_estimators': [200, 288, 377, 466,\n",
       "                                                         555, 644, 733, 822,\n",
       "                                                         911, 1000]},\n",
       "                   pre_dispatch='2*n_jobs', random_state=42, refit=True,\n",
       "                   return_train_score=False, scoring=None, verbose=2)"
      ]
     },
     "execution_count": 326,
     "metadata": {},
     "output_type": "execute_result"
    }
   ],
   "source": [
    "train = dfWeekNorm[dfWeekNorm.Date \n",
    "                            < datesCV[2*int(nsteps/7)]\n",
    "                           ].drop(columns = ['Date'])\n",
    "train_features = train.drop(['Count'], axis=1)\n",
    "train_vals = train['Count'].values\n",
    "\n",
    "# Use the random grid to search for best hyperparameters\n",
    "# First create the base model to tune\n",
    "rf = RandomForestRegressor()\n",
    "# Random search of parameters, using 3 fold cross validation, \n",
    "# search across 100 different combinations, and use all available cores\n",
    "rf_random = RandomizedSearchCV(estimator = rf, param_distributions = random_grid,\n",
    "                               n_iter = 50, cv = 2, \n",
    "                               verbose=2, random_state=42, \n",
    "                               n_jobs = -1)# Fit the random search model\n",
    "rf_random.fit(train_features, train_vals)"
   ]
  },
  {
   "cell_type": "code",
   "execution_count": 233,
   "metadata": {},
   "outputs": [
    {
     "data": {
      "text/plain": [
       "{'n_estimators': 911,\n",
       " 'min_samples_split': 2,\n",
       " 'min_samples_leaf': 2,\n",
       " 'max_features': 'auto',\n",
       " 'max_depth': None,\n",
       " 'bootstrap': True}"
      ]
     },
     "execution_count": 233,
     "metadata": {},
     "output_type": "execute_result"
    }
   ],
   "source": [
    "rf_random.best_params_"
   ]
  },
  {
   "cell_type": "markdown",
   "metadata": {},
   "source": [
    "### Final run of Random Forest regression using optimal hyperparameters. \n",
    "Not much change in overall fit over baseline Random Forest model"
   ]
  },
  {
   "cell_type": "code",
   "execution_count": 330,
   "metadata": {},
   "outputs": [
    {
     "name": "stdout",
     "output_type": "stream",
     "text": [
      "Step 0 - Error 26.55976\n",
      "Step 1 - Error 21.71278\n",
      "Step 2 - Error 23.03818\n",
      "Step 3 - Error 24.21790\n",
      "Step 4 - Error 19.47125\n",
      "Step 5 - Error 20.35330\n",
      "Step 6 - Error 20.26015\n",
      "Step 7 - Error 20.15425\n",
      "Step 8 - Error 22.43046\n",
      "Step 9 - Error 21.15253\n",
      "Step 10 - Error 20.94591\n",
      "Step 11 - Error 22.49636\n",
      "Step 12 - Error 22.01007\n",
      "Step 13 - Error 20.88724\n",
      "Step 14 - Error 26.21413\n",
      "Step 15 - Error 25.00612\n",
      "Step 16 - Error 22.96657\n",
      "Step 17 - Error 28.53494\n",
      "Step 18 - Error 30.22071\n",
      "Mean Error = 23.08593\n"
     ]
    }
   ],
   "source": [
    "best_random = rf_random.best_estimator_\n",
    "j = 0\n",
    "mean_error = []\n",
    "for id in range(2*int(nsteps/7),len(datesCV),int(nsteps/7)):\n",
    "    \n",
    "    train = dfWeekNorm[dfWeekNorm.Date < datesCV[id]].drop(columns = ['Date'])\n",
    "\n",
    "    xtr = train.drop(['Count'], axis=1)\n",
    "    ytr = train['Count'].values\n",
    "\n",
    "    mdl = best_random\n",
    "    mdl.fit(xtr, ytr)\n",
    "    \n",
    "    p,yts = [],[]\n",
    "    week_before = dfWeekNorm[(dfWeekNorm.Date > datesCV[id]-timedelta(days=14)\n",
    "                              ) &  (dfWeekNorm.Date <=\n",
    "                                    datesCV[id]-timedelta(days=7))].drop(columns = ['Date'])\n",
    "    new = dfWeekNorm[(dfWeekNorm.Date > datesCV[id]-timedelta(days=7)\n",
    "                              ) &  (dfWeekNorm.Date <= datesCV[id])].drop(columns = ['Date'])\n",
    "    lastWeek = new\n",
    "    for step in range(0,nsteps,7):\n",
    "        PrevCount = week_before.set_index('Census_Tracts_Cat')['Count']\n",
    "        \n",
    "        val = dfWeekNorm[(dfWeekNorm.Date > datesCV[id]) &\n",
    "                         (dfWeekNorm.Date <= datesCV[id]+timedelta(\n",
    "                             days=7))].drop(columns = ['Date'])\n",
    "        act = val['Count'].values\n",
    "        \n",
    "        xts = val.drop(columns = ['Count','Last_Week_Sales','Last_Week_Diff'])\n",
    "        \n",
    "        Last_Week_Diff = pd.DataFrame(lastWeek.set_index(\n",
    "            'Census_Tracts_Cat')['Count']-week_before.set_index('Census_Tracts_Cat')['Count'])\n",
    "        \n",
    "        Last_Week_Sales = pd.DataFrame(lastWeek.groupby(['Census_Tracts_Cat'\n",
    "                                                   ])['Count'].sum()).reset_index()\n",
    "        \n",
    "        xts = xts.join(Last_Week_Sales.set_index('Census_Tracts_Cat'), on='Census_Tracts_Cat')\n",
    "        xts = xts.rename(columns = {\"Count\": \"Last_Week_Sales\"})\n",
    "        xts = xts.join(Last_Week_Diff, on='Census_Tracts_Cat')\n",
    "        xts = xts.rename(columns = {\"Count\": \"Last_Week_Diff\"})\n",
    "        xts = xts.fillna(0)\n",
    "        \n",
    "        new = mdl.predict(xts)\n",
    "        \n",
    "        week_before = lastWeek\n",
    "        lastWeek = pd.DataFrame({'Census_Tracts_Cat' : xts['Census_Tracts_Cat'],\n",
    "                                'Count': new})\n",
    "        p = np.hstack((p,new))\n",
    "        yts = np.hstack((yts, act))\n",
    "    \n",
    "    error = MAPE_func(yts, p)\n",
    "    print('Step %d - Error %.5f' % (j, error))\n",
    "    mean_error.append(error)\n",
    "    j+=1\n",
    "print('Mean Error = %.5f' % np.mean(mean_error))"
   ]
  },
  {
   "cell_type": "code",
   "execution_count": null,
   "metadata": {},
   "outputs": [],
   "source": []
  }
 ],
 "metadata": {
  "kernelspec": {
   "display_name": "Python 3",
   "language": "python",
   "name": "python3"
  },
  "language_info": {
   "codemirror_mode": {
    "name": "ipython",
    "version": 3
   },
   "file_extension": ".py",
   "mimetype": "text/x-python",
   "name": "python",
   "nbconvert_exporter": "python",
   "pygments_lexer": "ipython3",
   "version": "3.7.6"
  }
 },
 "nbformat": 4,
 "nbformat_minor": 4
}
