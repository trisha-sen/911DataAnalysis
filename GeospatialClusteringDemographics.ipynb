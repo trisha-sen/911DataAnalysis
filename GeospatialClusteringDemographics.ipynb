{
 "cells": [
  {
   "cell_type": "code",
   "execution_count": 44,
   "metadata": {},
   "outputs": [],
   "source": [
    "import geopandas as gpd\n",
    "import pandas as pd\n",
    "import numpy as np"
   ]
  },
  {
   "cell_type": "code",
   "execution_count": 76,
   "metadata": {},
   "outputs": [],
   "source": [
    "import scipy\n",
    "from region.max_p_regions.heuristics import MaxPRegionsHeu\n",
    "from region.p_regions.azp import *\n",
    "from libpysal.weights import Queen, Rook"
   ]
  },
  {
   "cell_type": "markdown",
   "metadata": {},
   "source": [
    "### Reading shapefiles and demographic data for Baltimore City"
   ]
  },
  {
   "cell_type": "code",
   "execution_count": 89,
   "metadata": {},
   "outputs": [],
   "source": [
    "baltimore = gpd.read_file(\"baltimoe_data.shp\")\n",
    "baltimore = baltimore.drop(['county','state'],axis=1)"
   ]
  },
  {
   "cell_type": "code",
   "execution_count": 90,
   "metadata": {},
   "outputs": [],
   "source": [
    "baltimore['total_popu'] = baltimore['total_popu'].astype(float)\n",
    "baltimore['median_age'] = baltimore['median_age'].astype(float)\n",
    "baltimore['aland_neg'] = -baltimore['ALAND']\n",
    "baltimore['NAMELSAD']=baltimore['NAMELSAD'].astype(str)\n",
    "\n",
    "gdf = baltimore"
   ]
  },
  {
   "cell_type": "code",
   "execution_count": 91,
   "metadata": {},
   "outputs": [],
   "source": [
    "def cen_tract(tract_string):\n",
    "    tract = float((tract_string.split()[2]))\n",
    "    return tract\n",
    "gdf['NAMELSAD'] = gdf.apply(lambda x: cen_tract(x['NAMELSAD']),axis=1)"
   ]
  },
  {
   "cell_type": "code",
   "execution_count": 92,
   "metadata": {},
   "outputs": [],
   "source": [
    "df = pd.read_csv('HighEmer2018.csv') #('count2018.csv')\n",
    "df['CallDateTime'] = pd.to_datetime(df['CallDateTime'])\n",
    "df2018 = df[df.CallDateTime.dt.year==2018]\n",
    "\n",
    "c = df2018.groupby(['Census_Tracts'])['Count'].sum()\n",
    "dfTot2018 = pd.DataFrame(data = c)\n",
    "dfTot2018['Census_Tracts']=dfTot2018.index\n",
    "# gdf = gdf.drop(columns=['aland_neg'])\n",
    "gdf = gdf.join(dfTot2018.set_index('Census_Tracts'), on='NAMELSAD')\n",
    "# gdf.info()"
   ]
  },
  {
   "cell_type": "code",
   "execution_count": 93,
   "metadata": {},
   "outputs": [],
   "source": [
    "def pop_911(df):\n",
    "    rate = (df['Count']/(df['ALAND']+1))*100\n",
    "    return rate\n",
    "gdf['rate911'] = gdf.apply(lambda x: pop_911(x),axis=1)"
   ]
  },
  {
   "cell_type": "code",
   "execution_count": 94,
   "metadata": {},
   "outputs": [
    {
     "name": "stdout",
     "output_type": "stream",
     "text": [
      "<class 'geopandas.geodataframe.GeoDataFrame'>\n",
      "RangeIndex: 200 entries, 0 to 199\n",
      "Data columns (total 17 columns):\n",
      " #   Column      Non-Null Count  Dtype   \n",
      "---  ------      --------------  -----   \n",
      " 0   NAMELSAD    200 non-null    float64 \n",
      " 1   ALAND       200 non-null    int64   \n",
      " 2   INTPTLAT    200 non-null    object  \n",
      " 3   INTPTLON    200 non-null    object  \n",
      " 4   total_popu  200 non-null    float64 \n",
      " 5   median_age  200 non-null    float64 \n",
      " 6   High Schoo  200 non-null    object  \n",
      " 7   Median Hou  200 non-null    object  \n",
      " 8   Median roo  200 non-null    object  \n",
      " 9   no vehicle  200 non-null    object  \n",
      " 10  Total hous  200 non-null    object  \n",
      " 11  Year Built  200 non-null    float64 \n",
      " 12  pop_sq_mil  200 non-null    int64   \n",
      " 13  geometry    200 non-null    geometry\n",
      " 14  aland_neg   200 non-null    int64   \n",
      " 15  Count       200 non-null    int64   \n",
      " 16  rate911     200 non-null    float64 \n",
      "dtypes: float64(5), geometry(1), int64(4), object(7)\n",
      "memory usage: 26.7+ KB\n"
     ]
    }
   ],
   "source": [
    "dfDem = pd.read_csv('Demographics.csv')\n",
    "dfDem = dfDem.drop(columns = ['Unnamed: 0'])\n",
    "dfDem.tract = dfDem.tract\n",
    "gdf.NAMELSAD = gdf.NAMELSAD.astype(float)\n",
    "gdf.info()\n",
    "# dfDem.info()"
   ]
  },
  {
   "cell_type": "code",
   "execution_count": 95,
   "metadata": {},
   "outputs": [],
   "source": [
    "New = gdf.drop(columns=['total_popu','median_age','Total hous','Median roo',\n",
    "                       'no vehicle','aland_neg','Year Built'])\n",
    "dfDemNew = dfDem.set_index('tract')\n",
    "New = New.join(dfDemNew, on='NAMELSAD')"
   ]
  },
  {
   "cell_type": "code",
   "execution_count": 96,
   "metadata": {},
   "outputs": [
    {
     "name": "stdout",
     "output_type": "stream",
     "text": [
      "<class 'geopandas.geodataframe.GeoDataFrame'>\n",
      "RangeIndex: 200 entries, 0 to 199\n",
      "Data columns (total 25 columns):\n",
      " #   Column                   Non-Null Count  Dtype   \n",
      "---  ------                   --------------  -----   \n",
      " 0   NAMELSAD                 200 non-null    float64 \n",
      " 1   ALAND                    200 non-null    int64   \n",
      " 2   INTPTLAT                 200 non-null    object  \n",
      " 3   INTPTLON                 200 non-null    object  \n",
      " 4   High Schoo               200 non-null    object  \n",
      " 5   Median Hou               200 non-null    object  \n",
      " 6   pop_sq_mil               200 non-null    float64 \n",
      " 7   geometry                 200 non-null    geometry\n",
      " 8   Count                    200 non-null    int64   \n",
      " 9   rate911                  200 non-null    float64 \n",
      " 10  total_population         200 non-null    int64   \n",
      " 11  median_age               200 non-null    float64 \n",
      " 12  High School Graduate     200 non-null    int64   \n",
      " 13  Median Household Income  200 non-null    float64 \n",
      " 14  Median rooms             200 non-null    float64 \n",
      " 15  no vehicle available     200 non-null    int64   \n",
      " 16  Total housing units      200 non-null    int64   \n",
      " 17  state                    200 non-null    int64   \n",
      " 18  county                   200 non-null    int64   \n",
      " 19  Year Built               200 non-null    float64 \n",
      " 20  % no vehicle available   199 non-null    float64 \n",
      " 21  houses/area              200 non-null    float64 \n",
      " 22  %high school graduate    199 non-null    float64 \n",
      " 23  Count_norm               200 non-null    float64 \n",
      " 24  House Age                200 non-null    float64 \n",
      "dtypes: float64(12), geometry(1), int64(8), object(4)\n",
      "memory usage: 39.2+ KB\n"
     ]
    }
   ],
   "source": [
    "New['% no vehicle available'] = New['no vehicle available']/New['total_population']\n",
    "New['houses/area'] = New['Total housing units']/New['ALAND']*1000\n",
    "New['%high school graduate'] = New['High School Graduate']/New['total_population']\n",
    "New['Count_norm']=(New['Count']/(New['ALAND'])) #(New['total_population']+1))\n",
    "New['pop_sq_mil'] = New['pop_sq_mil']/10000\n",
    "New['House Age'] = 2018 - New['Year Built']\n",
    "\n",
    "New['Median Household Income'] = (New['Median Household Income']-\n",
    "                                  New['Median Household Income'].min())/(New['Median Household Income'].max()-\n",
    "                                                                         New['Median Household Income'].min())\n",
    "New['houses/area'] = (New['houses/area']-\n",
    "                      New['houses/area'].min())/(New['houses/area'].max()-\n",
    "                                               New['houses/area'].min())\n",
    "New['pop_sq_mil'] = (New['pop_sq_mil']-\n",
    "                     New['pop_sq_mil'].min())/(New['pop_sq_mil'].max()-\n",
    "                                          New['pop_sq_mil'].min())\n",
    "New['House Age'] = (New['House Age']-\n",
    "                    New['House Age'].min())/(New['House Age'].max()-\n",
    "                                          New['House Age'].min())\n",
    "New['Median rooms'] = (New['Median rooms']-\n",
    "                      New['Median rooms'].min())/(New['Median rooms'].max()-\n",
    "                                                  New['Median rooms'].min())\n",
    "New.info()"
   ]
  },
  {
   "cell_type": "markdown",
   "metadata": {},
   "source": [
    "### Feature importance analysis for understanding impact of demographics on 911 call volumes "
   ]
  },
  {
   "cell_type": "code",
   "execution_count": 97,
   "metadata": {},
   "outputs": [
    {
     "name": "stderr",
     "output_type": "stream",
     "text": [
      "C:\\Users\\Trisha\\Anaconda3\\lib\\site-packages\\sklearn\\utils\\validation.py:761: DataConversionWarning: A column-vector y was passed when a 1d array was expected. Please change the shape of y to (n_samples, ), for example using ravel().\n",
      "  y = column_or_1d(y, warn=True)\n"
     ]
    },
    {
     "data": {
      "text/plain": [
       "<BarContainer object of 6 artists>"
      ]
     },
     "execution_count": 97,
     "metadata": {},
     "output_type": "execute_result"
    },
    {
     "data": {
      "image/png": "[encoded data removed]",
      "text/plain": [
       "<Figure size 216x216 with 1 Axes>"
      ]
     },
     "metadata": {
      "needs_background": "light"
     },
     "output_type": "display_data"
    }
   ],
   "source": [
    "# pearson's correlation feature selection for numeric input and numeric output\n",
    "from sklearn.datasets import make_regression\n",
    "from sklearn.feature_selection import SelectKBest\n",
    "from sklearn.feature_selection import f_regression\n",
    "from sklearn.preprocessing import MinMaxScaler\n",
    "import matplotlib.pyplot as plt\n",
    "\n",
    "New['% no vehicle available'] = New['% no vehicle available'\n",
    "                                   ].fillna(New['% no vehicle available'].min())\n",
    "New['%high school graduate'] = New['%high school graduate'\n",
    "                                  ].fillna(New['%high school graduate'].min())\n",
    "New['Count_norm'] = New['Count_norm'\n",
    "                                  ].fillna(New['Count_norm'].min())\n",
    "\n",
    "\n",
    "X = New[['%high school graduate','Median Household Income',\n",
    "         'houses/area','House Age',\n",
    "         'Median rooms','pop_sq_mil']] #,'median_age'\n",
    "scaler = MinMaxScaler()\n",
    "scaler.fit(X)\n",
    "X = scaler.transform(X)\n",
    "\n",
    "y = New[['Count_norm']]\n",
    "scaler = MinMaxScaler()\n",
    "scaler.fit(y)\n",
    "y = scaler.transform(y)\n",
    "\n",
    "labels = ['%high school graduate','Median Household Income',\n",
    "         'houses/area','House Age',\n",
    "         'Median rooms','pop_sq_mil']#,'median_age']\n",
    "# print(X[51:80])\n",
    "# define feature selection\n",
    "fs = SelectKBest(score_func=f_regression, k=5)\n",
    "\n",
    "# apply feature selection\n",
    "X_selected = fs.fit_transform(X, y)\n",
    "\n",
    "d = {'label':labels, 'importance':fs.scores_}\n",
    "dfeat = pd.DataFrame(d)\n",
    "dfeat = dfeat.sort_values(by ='importance' )\n",
    "fig, axs = plt.subplots(1,1,figsize=(3,3))\n",
    "# print(X_selected.shape)\n",
    "axs.barh(dfeat.label,dfeat.importance,color='rebeccapurple')"
   ]
  },
  {
   "cell_type": "markdown",
   "metadata": {},
   "source": [
    "### Clustering into zones based on similarity of features found to be important\n",
    "An important feature of geo-spatial clustering over k-means is that it imposes an additional constraint that each identified cluster be spatially connected. In addition, a minimum thrshold for 911 calls/zone can be specified to prevent clustering into extremly small zones."
   ]
  },
  {
   "cell_type": "code",
   "execution_count": 98,
   "metadata": {},
   "outputs": [
    {
     "data": {
      "text/plain": [
       "49854.0"
      ]
     },
     "execution_count": 98,
     "metadata": {},
     "output_type": "execute_result"
    }
   ],
   "source": [
    "import numpy as np\n",
    "zrt = New\n",
    "zrt['NAMELSAD'] = zrt['NAMELSAD'].astype(str)\n",
    "# gdf['total_popu']=gdf['total_popu'].astype(float)\n",
    "n_rev = zrt.groupby('NAMELSAD')\\\n",
    "           .sum()\\\n",
    "           ['Count']\\\n",
    "           .rename(lambda x: str((x)))\\\n",
    "           .reindex(zrt['NAMELSAD'])\n",
    "\n",
    "thr = np.round(0.08 * n_rev.sum())\n",
    "thr\n",
    "# baltimore.NAMELSAD"
   ]
  },
  {
   "cell_type": "code",
   "execution_count": 77,
   "metadata": {},
   "outputs": [],
   "source": [
    "Fin = New\n",
    "\n",
    "w_queen = Queen.from_dataframe(Fin)\n",
    "w_rook = Rook.from_dataframe(Fin)\n",
    "\n",
    "adj = scipy.sparse.csr_matrix(w_rook.full()[0])\n",
    "\n",
    "values_gdf = Fin[[#'Median Household Income',\n",
    "                  'House Age', \n",
    "                  'pop_sq_mil','houses/area']]\n",
    "spatially_extensive_attr_gdf = Fin[['Count']].values #'total_popu',\n",
    "\n",
    "i = 100\n",
    "threshold = [thr]\n",
    "model = MaxPRegionsHeu(local_search = AZP(), random_state=i)\n",
    "model.fit_from_w(w_rook, values_gdf.values, spatially_extensive_attr_gdf, threshold = threshold)\n",
    "Fin['labels'] = model.labels_\n",
    "\n",
    "# MaxPRegionsHeu.fit_from_geodataframe(w, z, thr, n_rev.values[:, None], initial=1000)\n",
    "# dir(region.max_p_regions)\n",
    "# # maxp = region.Maxp(w, z, thr, n_rev.values[:, None], initial=1000)"
   ]
  },
  {
   "cell_type": "code",
   "execution_count": 78,
   "metadata": {},
   "outputs": [
    {
     "data": {
      "image/png": "[encoded data removed]",
      "text/plain": [
       "<Figure size 360x360 with 1 Axes>"
      ]
     },
     "metadata": {
      "needs_background": "light"
     },
     "output_type": "display_data"
    }
   ],
   "source": [
    "Fin['labels']=Fin['labels'].astype(str)\n",
    "base = Fin.plot(cmap = 'jet',figsize=[5,5],\n",
    "                column = 'labels', legend=False, alpha=0.7)\n",
    "# base.legend(loc='upper left')\n",
    "Stations = pd.read_csv('Police_Stations.csv')\n",
    "Stations = gpd.GeoDataFrame(\n",
    "    Stations, geometry=gpd.points_from_xy(Stations.longitude, Stations.latitude))\n",
    "Stations.plot(ax=base, marker='o', color='black', markersize=15);"
   ]
  },
  {
   "cell_type": "markdown",
   "metadata": {},
   "source": [
    "### Comparison of 911 call load distribution of clusters identified above vs. existing districts in Baltimore"
   ]
  },
  {
   "cell_type": "code",
   "execution_count": 79,
   "metadata": {},
   "outputs": [
    {
     "name": "stdout",
     "output_type": "stream",
     "text": [
      "Avergae Deviation from mean = 29248.0\n",
      "# Zones = 10\n",
      "Maximum Load = 79915\n"
     ]
    },
    {
     "data": {
      "image/png": "[encoded data removed]",
      "text/plain": [
       "<Figure size 432x288 with 1 Axes>"
      ]
     },
     "metadata": {
      "needs_background": "light"
     },
     "output_type": "display_data"
    }
   ],
   "source": [
    "c = Fin.groupby(['labels'])['Count'].sum().sort_values()\n",
    "ax = c.plot.bar()\n",
    "ax.set_xlabel('New District')\n",
    "ax.set_ylabel('Annual 911 calls')\n",
    "# ax.set_ylim(0, 110000)\n",
    "print('Avergae Deviation from mean =' , round(np.mean(abs(c.values.max()\n",
    "                                                          - c.values.min()))))\n",
    "print('# Zones =', len(c))\n",
    "print('Maximum Load =' , c.values.max())"
   ]
  },
  {
   "cell_type": "code",
   "execution_count": 99,
   "metadata": {},
   "outputs": [],
   "source": [
    "dfUsed = Fin\n",
    "ctracts = dfUsed.NAMELSAD.unique()\n",
    "New_dist = []\n",
    "for ct in ctracts:\n",
    "#     Temp = dfUsed[dfUsed.NAMELSAD==ct]\n",
    "#     New_dist.append(Temp.labels.mode()[0])\n",
    "    for idx in dfUsed.index:\n",
    "        if dfUsed.NAMELSAD[idx]==ct:\n",
    "            New_dist.append(dfUsed.labels[idx])\n",
    "            break\n",
    "\n",
    "d = {'New_district': New_dist, 'census_tracts': dfUsed.NAMELSAD.unique()}\n",
    "ND_tract = pd.DataFrame(data=d)\n",
    "\n",
    "ND_tract.sort_values(by=['New_district'])\n",
    "ND_tract.to_csv('Tract_ND_fin.csv',index=False)"
   ]
  },
  {
   "cell_type": "code",
   "execution_count": 101,
   "metadata": {},
   "outputs": [],
   "source": [
    "PD_tract = pd.read_csv('Tract_PD2.csv') #('Tract_PD.csv')\n",
    "PD = []\n",
    "for idx in gdf.index:\n",
    "    ct = gdf.NAMELSAD[idx]\n",
    "    xx = (PD_tract[PD_tract['census_tracts']==float(ct)].Police_district.values[0])\n",
    "    PD.append(xx)\n",
    "    \n",
    "gdf['Police District']=PD"
   ]
  },
  {
   "cell_type": "code",
   "execution_count": 102,
   "metadata": {},
   "outputs": [
    {
     "name": "stdout",
     "output_type": "stream",
     "text": [
      "Avergae Deviation from mean = 27879.0\n",
      "# Zones = 9\n",
      "Maximum Load = 82538\n"
     ]
    },
    {
     "data": {
      "image/png": "[encoded data removed]",
      "text/plain": [
       "<Figure size 432x288 with 1 Axes>"
      ]
     },
     "metadata": {
      "needs_background": "light"
     },
     "output_type": "display_data"
    }
   ],
   "source": [
    "c = gdf.groupby(['Police District'])['Count'].sum().sort_values()\n",
    "ax = c.plot.bar()\n",
    "ax.set_xlabel('Police District')\n",
    "ax.set_ylabel('Annual 911 calls')\n",
    "# ax.set_ylim(0, 110000)\n",
    "print('Avergae Deviation from mean =' , round(np.mean(abs(c.values.max()\n",
    "                                                          - c.values.min()))))\n",
    "print('# Zones =', len(c))\n",
    "print('Maximum Load =' , c.values.max())"
   ]
  },
  {
   "cell_type": "code",
   "execution_count": 103,
   "metadata": {},
   "outputs": [
    {
     "data": {
      "text/plain": [
       "labels\n",
       "0.0    30621276\n",
       "1.0     6590770\n",
       "2.0     5942874\n",
       "3.0    30515883\n",
       "4.0    20491539\n",
       "5.0    38044008\n",
       "6.0     6633979\n",
       "7.0    18029180\n",
       "8.0    44458676\n",
       "9.0     8322785\n",
       "Name: ALAND, dtype: int64"
      ]
     },
     "execution_count": 103,
     "metadata": {},
     "output_type": "execute_result"
    }
   ],
   "source": [
    "Area = Fin.groupby(['labels'])['ALAND'].sum()\n",
    "Area"
   ]
  },
  {
   "cell_type": "code",
   "execution_count": null,
   "metadata": {},
   "outputs": [],
   "source": []
  }
 ],
 "metadata": {
  "kernelspec": {
   "display_name": "Python 3",
   "language": "python",
   "name": "python3"
  },
  "language_info": {
   "codemirror_mode": {
    "name": "ipython",
    "version": 3
   },
   "file_extension": ".py",
   "mimetype": "text/x-python",
   "name": "python",
   "nbconvert_exporter": "python",
   "pygments_lexer": "ipython3",
   "version": "3.7.4"
  }
 },
 "nbformat": 4,
 "nbformat_minor": 4
}
