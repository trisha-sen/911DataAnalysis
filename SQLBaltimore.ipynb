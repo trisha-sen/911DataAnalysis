{
 "cells": [
  {
   "cell_type": "code",
   "execution_count": 32,
   "metadata": {},
   "outputs": [],
   "source": [
    "import pandas as pd\n",
    "import sqlite3\n",
    "# import psycopg2"
   ]
  },
  {
   "cell_type": "code",
   "execution_count": 3,
   "metadata": {},
   "outputs": [
    {
     "name": "stderr",
     "output_type": "stream",
     "text": [
      "C:\\ProgramData\\Anaconda3\\lib\\site-packages\\IPython\\core\\interactiveshell.py:3063: DtypeWarning: Columns (1) have mixed types.Specify dtype option on import or set low_memory=False.\n",
      "  interactivity=interactivity, compiler=compiler, result=result)\n"
     ]
    }
   ],
   "source": [
    "df = pd.read_csv('Analysis911/911_Police_Calls_for_Service.csv')"
   ]
  },
  {
   "cell_type": "code",
   "execution_count": null,
   "metadata": {},
   "outputs": [],
   "source": [
    "df['CallDateTime'] = pd.to_datetime(df['CallDateTime'])\n",
    "df = df.dropna(subset=['Census_Tracts'])\n",
    "df = df.dropna(subset=['PoliceDistrict'])\n",
    "df = df.dropna(subset=['Priority'])\n",
    "df['Count'] = 1\n",
    "\n",
    "def cen_tract(tract_string):\n",
    "    tract = float(str(tract_string).split()[2])\n",
    "    return tract\n",
    "\n",
    "df.Census_Tracts = df.apply(lambda x: cen_tract(x['Census_Tracts']),axis=1)\n",
    "df.info()"
   ]
  },
  {
   "cell_type": "code",
   "execution_count": 14,
   "metadata": {},
   "outputs": [],
   "source": [
    "df = df.rename(columns ={'2010 Census Neighborhoods':'2010_Census_Neighborhoods',\n",
    "                        '2010 Census Wards Precincts':'2010_Census_Wards_Precincts',\n",
    "                        'Zip Codes':'Zip_Codes'})"
   ]
  },
  {
   "cell_type": "code",
   "execution_count": 38,
   "metadata": {},
   "outputs": [],
   "source": [
    "dfRecordID = df[['RecordID','CallNumber','CallDateTime']].set_index('RecordID')\n",
    "dfLocation = df[['RecordID','Census_Tracts','PoliceDistrict','District','IncidentLocation',\n",
    "                 'ZipCode','Neighborhood',\n",
    "                 'PolicePost','CouncilDistrict','SheriffDistricts',\n",
    "                 'Community_Statistical_Areas',\n",
    "                 'VRIZones','Location'\n",
    "                 ]].set_index('RecordID')\n",
    "dfDetails = df[['RecordID','Priority','Description']].set_index('RecordID')"
   ]
  },
  {
   "cell_type": "code",
   "execution_count": 39,
   "metadata": {},
   "outputs": [],
   "source": [
    "dfRecordID.to_csv('RecordID.csv')\n",
    "dfLocation.to_csv('LocationID.csv')\n",
    "dfDetails.to_csv('DetailsID.csv')"
   ]
  },
  {
   "cell_type": "code",
   "execution_count": 40,
   "metadata": {},
   "outputs": [
    {
     "name": "stdout",
     "output_type": "stream",
     "text": [
      "<class 'pandas.core.frame.DataFrame'>\n",
      "Int64Index: 7745304 entries, 0 to 7823489\n",
      "Data columns (total 21 columns):\n",
      " #   Column                       Dtype         \n",
      "---  ------                       -----         \n",
      " 0   RecordID                     int64         \n",
      " 1   CallNumber                   object        \n",
      " 2   CallDateTime                 datetime64[ns]\n",
      " 3   Priority                     object        \n",
      " 4   District                     object        \n",
      " 5   Description                  object        \n",
      " 6   IncidentLocation             object        \n",
      " 7   ZipCode                      float64       \n",
      " 8   Neighborhood                 object        \n",
      " 9   PoliceDistrict               object        \n",
      " 10  PolicePost                   float64       \n",
      " 11  CouncilDistrict              float64       \n",
      " 12  SheriffDistricts             object        \n",
      " 13  Community_Statistical_Areas  object        \n",
      " 14  Census_Tracts                float64       \n",
      " 15  VRIZones                     object        \n",
      " 16  Location                     object        \n",
      " 17  2010_Census_Neighborhoods    float64       \n",
      " 18  2010_Census_Wards_Precincts  float64       \n",
      " 19  Zip_Codes                    float64       \n",
      " 20  Count                        int64         \n",
      "dtypes: datetime64[ns](1), float64(7), int64(2), object(11)\n",
      "memory usage: 1.3+ GB\n"
     ]
    }
   ],
   "source": [
    "df.info()"
   ]
  },
  {
   "cell_type": "code",
   "execution_count": 55,
   "metadata": {},
   "outputs": [],
   "source": [
    "connection = sqlite3.connect('C:/Users/tsen6/Desktop/Python/Baltimore_911_01.db')\n",
    "cursor = connection.cursor()"
   ]
  },
  {
   "cell_type": "code",
   "execution_count": 56,
   "metadata": {},
   "outputs": [],
   "source": [
    "# #creating table passengers\n",
    "# cursor.execute(\"\"\"CREATE TABLE RecordID(\n",
    "# RecordID SERIAL PRIMARY KEY,\n",
    "# CallNumber integer,\n",
    "# CallDateTime datetime)\"\"\")"
   ]
  },
  {
   "cell_type": "code",
   "execution_count": 57,
   "metadata": {},
   "outputs": [],
   "source": [
    "# cursor.execute(\"\"\"CREATE TABLE LocationID(\n",
    "# RecordID SERIAL PRIMARY KEY,\n",
    "# Census_Tracts float,\n",
    "# PoliceDistrict text,\n",
    "# District text,\n",
    "# IncidentLocation text,\n",
    "# ZipCode integer,\n",
    "# Neighborhood text,\n",
    "# PolicePost text,\n",
    "# CouncilDistrict text,\n",
    "# SheriffDistricts text,\n",
    "# Community_Statistical_Areas text,\n",
    "# VRIZones text,\n",
    "# Location text)\"\"\")\n",
    "\n",
    "# cursor.execute(\"\"\"CREATE TABLE DetailsID(\n",
    "# RecordID SERIAL PRIMARY KEY,\n",
    "# Priority text,\n",
    "# Description text)\"\"\")\n",
    "\n",
    "# connection.commit()"
   ]
  },
  {
   "cell_type": "code",
   "execution_count": 45,
   "metadata": {},
   "outputs": [],
   "source": [
    "dfDetails.to_sql('DetailsID', con=connection, if_exists='append')  \n",
    "\n",
    "dfLocation.to_sql('LocationID', con=connection, if_exists='append')  \n",
    "\n",
    "dfRecordID.to_sql('RecordID', con=connection, if_exists='append')  \n",
    "\n",
    "connection.commit()"
   ]
  },
  {
   "cell_type": "code",
   "execution_count": 50,
   "metadata": {},
   "outputs": [
    {
     "data": {
      "text/html": [
       "<div>\n",
       "<style scoped>\n",
       "    .dataframe tbody tr th:only-of-type {\n",
       "        vertical-align: middle;\n",
       "    }\n",
       "\n",
       "    .dataframe tbody tr th {\n",
       "        vertical-align: top;\n",
       "    }\n",
       "\n",
       "    .dataframe thead th {\n",
       "        text-align: right;\n",
       "    }\n",
       "</style>\n",
       "<table border=\"1\" class=\"dataframe\">\n",
       "  <thead>\n",
       "    <tr style=\"text-align: right;\">\n",
       "      <th></th>\n",
       "      <th>RecordID</th>\n",
       "      <th>CallDateTime</th>\n",
       "      <th>Priority</th>\n",
       "      <th>Census_Tracts</th>\n",
       "      <th>PoliceDistrict</th>\n",
       "    </tr>\n",
       "  </thead>\n",
       "  <tbody>\n",
       "    <tr>\n",
       "      <th>0</th>\n",
       "      <td>6144905</td>\n",
       "      <td>2019-04-11 08:01:00</td>\n",
       "      <td>Medium</td>\n",
       "      <td>1501.00</td>\n",
       "      <td>Western</td>\n",
       "    </tr>\n",
       "    <tr>\n",
       "      <th>1</th>\n",
       "      <td>7473156</td>\n",
       "      <td>2020-02-27 09:56:00</td>\n",
       "      <td>Medium</td>\n",
       "      <td>401.00</td>\n",
       "      <td>Central</td>\n",
       "    </tr>\n",
       "    <tr>\n",
       "      <th>2</th>\n",
       "      <td>7473387</td>\n",
       "      <td>2020-02-27 11:00:00</td>\n",
       "      <td>Medium</td>\n",
       "      <td>2505.00</td>\n",
       "      <td>Southern</td>\n",
       "    </tr>\n",
       "    <tr>\n",
       "      <th>3</th>\n",
       "      <td>7473302</td>\n",
       "      <td>2020-02-27 10:22:00</td>\n",
       "      <td>High</td>\n",
       "      <td>1504.00</td>\n",
       "      <td>Western</td>\n",
       "    </tr>\n",
       "    <tr>\n",
       "      <th>4</th>\n",
       "      <td>7473570</td>\n",
       "      <td>2020-02-27 11:33:00</td>\n",
       "      <td>High</td>\n",
       "      <td>2201.00</td>\n",
       "      <td>Southern</td>\n",
       "    </tr>\n",
       "    <tr>\n",
       "      <th>...</th>\n",
       "      <td>...</td>\n",
       "      <td>...</td>\n",
       "      <td>...</td>\n",
       "      <td>...</td>\n",
       "      <td>...</td>\n",
       "    </tr>\n",
       "    <tr>\n",
       "      <th>4065948</th>\n",
       "      <td>5841920</td>\n",
       "      <td>2013-07-30 22:18:00</td>\n",
       "      <td>Medium</td>\n",
       "      <td>2002.00</td>\n",
       "      <td>Southwestern</td>\n",
       "    </tr>\n",
       "    <tr>\n",
       "      <th>4065949</th>\n",
       "      <td>5841735</td>\n",
       "      <td>2013-07-30 23:34:00</td>\n",
       "      <td>Medium</td>\n",
       "      <td>2804.03</td>\n",
       "      <td>Southwestern</td>\n",
       "    </tr>\n",
       "    <tr>\n",
       "      <th>4065950</th>\n",
       "      <td>5842440</td>\n",
       "      <td>2013-07-30 19:23:00</td>\n",
       "      <td>Medium</td>\n",
       "      <td>1605.00</td>\n",
       "      <td>Western</td>\n",
       "    </tr>\n",
       "    <tr>\n",
       "      <th>4065951</th>\n",
       "      <td>5842176</td>\n",
       "      <td>2013-07-30 20:57:00</td>\n",
       "      <td>Medium</td>\n",
       "      <td>1901.00</td>\n",
       "      <td>Western</td>\n",
       "    </tr>\n",
       "    <tr>\n",
       "      <th>4065952</th>\n",
       "      <td>5842005</td>\n",
       "      <td>2013-07-30 21:54:00</td>\n",
       "      <td>Medium</td>\n",
       "      <td>2718.01</td>\n",
       "      <td>Northwestern</td>\n",
       "    </tr>\n",
       "  </tbody>\n",
       "</table>\n",
       "<p>4065953 rows × 5 columns</p>\n",
       "</div>"
      ],
      "text/plain": [
       "         RecordID         CallDateTime Priority  Census_Tracts PoliceDistrict\n",
       "0         6144905  2019-04-11 08:01:00   Medium        1501.00        Western\n",
       "1         7473156  2020-02-27 09:56:00   Medium         401.00        Central\n",
       "2         7473387  2020-02-27 11:00:00   Medium        2505.00       Southern\n",
       "3         7473302  2020-02-27 10:22:00     High        1504.00        Western\n",
       "4         7473570  2020-02-27 11:33:00     High        2201.00       Southern\n",
       "...           ...                  ...      ...            ...            ...\n",
       "4065948   5841920  2013-07-30 22:18:00   Medium        2002.00   Southwestern\n",
       "4065949   5841735  2013-07-30 23:34:00   Medium        2804.03   Southwestern\n",
       "4065950   5842440  2013-07-30 19:23:00   Medium        1605.00        Western\n",
       "4065951   5842176  2013-07-30 20:57:00   Medium        1901.00        Western\n",
       "4065952   5842005  2013-07-30 21:54:00   Medium        2718.01   Northwestern\n",
       "\n",
       "[4065953 rows x 5 columns]"
      ]
     },
     "execution_count": 50,
     "metadata": {},
     "output_type": "execute_result"
    }
   ],
   "source": [
    "sql = \"\"\"\n",
    "SELECT RecordID, CallDateTime, Priority, Census_Tracts, PoliceDistrict\n",
    "FROM (SELECT r.RecordID, r.CallDateTime, d.Priority, l.Census_Tracts, l.PoliceDistrict\n",
    "FROM RecordID r\n",
    "INNER JOIN DetailsID d ON r.RecordID = d.RecordID\n",
    "INNER JOIN LocationID l ON r.RecordID = l.RecordID\n",
    "WHERE (d.Priority = 'High') OR (d.Priority = 'Medium'))\n",
    "\"\"\"\n",
    "pd.read_sql(sql, con=connection)"
   ]
  },
  {
   "cell_type": "code",
   "execution_count": null,
   "metadata": {},
   "outputs": [],
   "source": []
  }
 ],
 "metadata": {
  "kernelspec": {
   "display_name": "Python 3",
   "language": "python",
   "name": "python3"
  },
  "language_info": {
   "codemirror_mode": {
    "name": "ipython",
    "version": 3
   },
   "file_extension": ".py",
   "mimetype": "text/x-python",
   "name": "python",
   "nbconvert_exporter": "python",
   "pygments_lexer": "ipython3",
   "version": "3.7.6"
  }
 },
 "nbformat": 4,
 "nbformat_minor": 4
}
